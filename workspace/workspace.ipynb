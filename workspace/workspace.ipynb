{
 "cells": [
  {
   "cell_type": "code",
   "execution_count": 1,
   "id": "9dfcafb9",
   "metadata": {},
   "outputs": [],
   "source": [
    "NAME = \"Matthew A. Hernandez\"\n",
    "# University of Arizona email address\n",
    "EMAIL = \"mah8@arizona.edu\""
   ]
  },
  {
   "cell_type": "markdown",
   "id": "664e976e",
   "metadata": {},
   "source": [
    "## Class Competition\n",
    "Description, Evaluation, and Data Set taken from the [class competition site](https://www.kaggle.com/competitions/ling-539-sp-2024-class-competition) and [GitHub blog](https://uazhlt-ms-program.github.io/ling-539-course-blog/assignments/class-competition)."
   ]
  },
  {
   "cell_type": "markdown",
   "id": "cc5d19cc",
   "metadata": {},
   "source": [
    "## Description\n",
    "Marvin works at the last Blockbusta Videoz (a fictional video rental shop) where his task is to classify movie and TV show reviews to help curate a special section of the store.\n",
    "\n",
    "One day while perusing his favorite website, Marvin came upon a post about someone who secretly automated their job and then quietly took off on a long (paid) vacation. Inspired, Marvin set aside a portion of his salary to hire a developer to write a few scripts to scrape movie reviews from various sources. It's a bit noisy, but aggregating many reviews has cut the time he previously spent on his job by half.\n",
    "\n",
    "Now, after reading an article about AI, Marvin wants to take things a step further: he is searching for a program that can determine a) whether or not a piece of text is a movie/TV show review and b) whether or not each review is positive (the movie/TV show is recommended) or negative (the movie/TV show should be avoided).\n",
    "\n",
    "Marvin has put together a competition and advertised it on Fraggle (a fictional platform for competitive data science)."
   ]
  },
  {
   "cell_type": "markdown",
   "id": "dace9465",
   "metadata": {},
   "source": [
    "## Evaluation\n",
    "\n",
    "The evaluation metric for this competition is the macro F1 score (i.e., the unweighted mean F1). The F1 score, commonly used in information retrieval, measures accuracy using the statistics precision *P* and recall *R*.\n",
    "\n",
    "Precision is the ratio of true positives *TP* to all the predicted positions *TP+FP*. Recall is the ratio of true positives *TP* to all the actual positives *TP+FN*. The F1 score is given by:\n",
    "\n",
    "\n",
    "$$\n",
    "F1 = 2\\frac{P*R}{P+R}, Precision = \\frac{TP}{TP+FP}, Recall = \\frac{TP}{TP+FN}\n",
    "$$\n",
    "\n",
    "\n",
    "The F1 metric weighs recall and precision equally. Moderately good performance on both will be favored over extremely good performance on one and poor performance on the other."
   ]
  },
  {
   "cell_type": "markdown",
   "id": "18e92741",
   "metadata": {},
   "source": [
    "## Data Set\n",
    "\n",
    "| **FILE NAME**         | **AVAILABLE FORMATS**       | \n",
    "|-----------------------|-----------------------------|\n",
    "|  train                | .csv (64.9 MB)              | \n",
    "|  test                 | .csv (15.9 MB)              |\n",
    "|  sample_submission    | .csv (?? kb)                |\n",
    "\n",
    "\n",
    "| **COLUMN** | **DESCRIPTION**                         | \n",
    "|------------|-----------------------------------------| \n",
    "|  ID        | Unique ID for this datapoint            |\n",
    "|  TEXT      | The text of the document                | \n",
    "|  LABEL     | The label for the datapoint (see below) |\n",
    "\n",
    "| **LABEL** | **DESCRIPTION**                       | \n",
    "|-----------|---------------------------------------|\n",
    "|  0        | Not a movie or TV show review         | \n",
    "|  1        | A positive movie or TV show review    |\n",
    "|  2        | A negative movie or TV show review    |"
   ]
  },
  {
   "cell_type": "markdown",
   "id": "f62c754e",
   "metadata": {},
   "source": [
    "## 1. Setup and Imports"
   ]
  },
  {
   "cell_type": "code",
   "execution_count": 2,
   "id": "fd8797ef",
   "metadata": {},
   "outputs": [],
   "source": [
    "# Utilities\n",
    "import pandas as pd\n",
    "import numpy as np\n",
    "import pickle\n",
    "import re\n",
    "# Plotting\n",
    "import matplotlib.pyplot as plt\n",
    "# NLTK Modules\n",
    "import nltk\n",
    "from nltk import word_tokenize, sent_tokenize\n",
    "# from nltk import WordNetLemmatizer\n",
    "# from nltk.corpus import wordnet as wn\n",
    "# from nltk.corpus import sentiwordnet as swn\n",
    "\n",
    "import time\n",
    "\n",
    "from scipy.sparse import csr_matrix\n",
    "from scipy.sparse import hstack\n",
    "\n",
    "from sklearn.feature_extraction.text import TfidfVectorizer\n",
    "from sklearn.linear_model import LogisticRegression\n",
    "from sklearn.naive_bayes import MultinomialNB\n",
    "from sklearn.model_selection import train_test_split\n",
    "from sklearn.metrics import f1_score, confusion_matrix, classification_report\n",
    "\n",
    "# Paths\n",
    "train_file_path = \"../data/train.csv\"\n",
    "test_file_path = \"../data/test.csv\""
   ]
  },
  {
   "cell_type": "markdown",
   "id": "fb1a1690",
   "metadata": {},
   "source": [
    "## 2. Explore the data"
   ]
  },
  {
   "cell_type": "code",
   "execution_count": 3,
   "id": "dcacc354",
   "metadata": {},
   "outputs": [
    {
     "data": {
      "text/html": [
       "<div>\n",
       "<style scoped>\n",
       "    .dataframe tbody tr th:only-of-type {\n",
       "        vertical-align: middle;\n",
       "    }\n",
       "\n",
       "    .dataframe tbody tr th {\n",
       "        vertical-align: top;\n",
       "    }\n",
       "\n",
       "    .dataframe thead th {\n",
       "        text-align: right;\n",
       "    }\n",
       "</style>\n",
       "<table border=\"1\" class=\"dataframe\">\n",
       "  <thead>\n",
       "    <tr style=\"text-align: right;\">\n",
       "      <th></th>\n",
       "      <th>ID</th>\n",
       "      <th>TEXT</th>\n",
       "      <th>LABEL</th>\n",
       "    </tr>\n",
       "  </thead>\n",
       "  <tbody>\n",
       "    <tr>\n",
       "      <th>0</th>\n",
       "      <td>7850790573542594519</td>\n",
       "      <td>If you love good films don't ever buy this pei...</td>\n",
       "      <td>2</td>\n",
       "    </tr>\n",
       "    <tr>\n",
       "      <th>1</th>\n",
       "      <td>9392069522632994700</td>\n",
       "      <td>The 33 percent of the nations nitwits that sti...</td>\n",
       "      <td>2</td>\n",
       "    </tr>\n",
       "    <tr>\n",
       "      <th>2</th>\n",
       "      <td>5083704536542443514</td>\n",
       "      <td>I saw Anatomy years ago -- dubbed at a friends...</td>\n",
       "      <td>1</td>\n",
       "    </tr>\n",
       "    <tr>\n",
       "      <th>3</th>\n",
       "      <td>12418349755186772171</td>\n",
       "      <td>Dark Remains is a home run plain and simple. T...</td>\n",
       "      <td>1</td>\n",
       "    </tr>\n",
       "    <tr>\n",
       "      <th>4</th>\n",
       "      <td>12144957944004619479</td>\n",
       "      <td>Feh. This movie started out in an interesting ...</td>\n",
       "      <td>2</td>\n",
       "    </tr>\n",
       "  </tbody>\n",
       "</table>\n",
       "</div>"
      ],
      "text/plain": [
       "                     ID                                               TEXT  \\\n",
       "0   7850790573542594519  If you love good films don't ever buy this pei...   \n",
       "1   9392069522632994700  The 33 percent of the nations nitwits that sti...   \n",
       "2   5083704536542443514  I saw Anatomy years ago -- dubbed at a friends...   \n",
       "3  12418349755186772171  Dark Remains is a home run plain and simple. T...   \n",
       "4  12144957944004619479  Feh. This movie started out in an interesting ...   \n",
       "\n",
       "   LABEL  \n",
       "0      2  \n",
       "1      2  \n",
       "2      1  \n",
       "3      1  \n",
       "4      2  "
      ]
     },
     "execution_count": 3,
     "metadata": {},
     "output_type": "execute_result"
    }
   ],
   "source": [
    "def read_reviews(reviews_path):\n",
    "    '''\n",
    "    Reads a CSV file and returns a dataframe.\n",
    "    \n",
    "    @param reviews_path:\n",
    "    @return: pd.DataFrame\n",
    "    '''\n",
    "    df = pd.read_csv(reviews_path)\n",
    "    return df\n",
    "\n",
    "df_train = read_reviews(train_file_path)\n",
    "df_test = read_reviews(test_file_path)\n",
    "df_train.head()"
   ]
  },
  {
   "cell_type": "code",
   "execution_count": 4,
   "id": "92badd0f",
   "metadata": {},
   "outputs": [
    {
     "name": "stdout",
     "output_type": "stream",
     "text": [
      "Dataframe shape: 70317\n",
      "Dataframe types: \n",
      "ID       uint64\n",
      "TEXT     object\n",
      "LABEL     int64\n",
      "dtype: object\n"
     ]
    }
   ],
   "source": [
    "print(f\"Dataframe shape: {df_train.shape[0]}\")\n",
    "print(f\"Dataframe types: \\n{df_train.dtypes}\")"
   ]
  },
  {
   "cell_type": "markdown",
   "id": "cf70cb17",
   "metadata": {},
   "source": [
    "### Dropping unhelpful rows"
   ]
  },
  {
   "cell_type": "code",
   "execution_count": 5,
   "id": "6cc84778",
   "metadata": {},
   "outputs": [
    {
     "name": "stdout",
     "output_type": "stream",
     "text": [
      "<class 'pandas.core.frame.DataFrame'>\n",
      "RangeIndex: 70317 entries, 0 to 70316\n",
      "Data columns (total 3 columns):\n",
      " #   Column  Non-Null Count  Dtype \n",
      "---  ------  --------------  ----- \n",
      " 0   ID      70317 non-null  uint64\n",
      " 1   TEXT    70311 non-null  object\n",
      " 2   LABEL   70317 non-null  int64 \n",
      "dtypes: int64(1), object(1), uint64(1)\n",
      "memory usage: 1.6+ MB\n"
     ]
    }
   ],
   "source": [
    "df_train.info()"
   ]
  },
  {
   "cell_type": "markdown",
   "id": "59c37b7b",
   "metadata": {},
   "source": [
    "Text column is missing 6 values. The shape of the dataframe is 70317. The data set is relatively clean, so no additional preprocessing is needed."
   ]
  },
  {
   "cell_type": "code",
   "execution_count": 6,
   "id": "e39599c0",
   "metadata": {},
   "outputs": [],
   "source": [
    "# df_train['TEXT'].dropna(value='Zero', inplace=True)"
   ]
  },
  {
   "cell_type": "code",
   "execution_count": 7,
   "id": "8459fc38",
   "metadata": {},
   "outputs": [],
   "source": [
    "df_train = df_train.dropna()"
   ]
  },
  {
   "cell_type": "markdown",
   "id": "d5461083",
   "metadata": {},
   "source": [
    "**Drop missing values.** Other option would be to replace the Text columns with an 'Unknown' value."
   ]
  },
  {
   "cell_type": "code",
   "execution_count": 8,
   "id": "2de43abf",
   "metadata": {},
   "outputs": [
    {
     "name": "stdout",
     "output_type": "stream",
     "text": [
      "<class 'pandas.core.frame.DataFrame'>\n",
      "Index: 70311 entries, 0 to 70316\n",
      "Data columns (total 3 columns):\n",
      " #   Column  Non-Null Count  Dtype \n",
      "---  ------  --------------  ----- \n",
      " 0   ID      70311 non-null  uint64\n",
      " 1   TEXT    70311 non-null  object\n",
      " 2   LABEL   70311 non-null  int64 \n",
      "dtypes: int64(1), object(1), uint64(1)\n",
      "memory usage: 2.1+ MB\n"
     ]
    }
   ],
   "source": [
    "# verify the changes were made\n",
    "df_train.info()"
   ]
  },
  {
   "cell_type": "code",
   "execution_count": 9,
   "id": "fe0feed0",
   "metadata": {},
   "outputs": [
    {
     "data": {
      "text/html": [
       "<div>\n",
       "<style scoped>\n",
       "    .dataframe tbody tr th:only-of-type {\n",
       "        vertical-align: middle;\n",
       "    }\n",
       "\n",
       "    .dataframe tbody tr th {\n",
       "        vertical-align: top;\n",
       "    }\n",
       "\n",
       "    .dataframe thead th {\n",
       "        text-align: right;\n",
       "    }\n",
       "</style>\n",
       "<table border=\"1\" class=\"dataframe\">\n",
       "  <thead>\n",
       "    <tr style=\"text-align: right;\">\n",
       "      <th></th>\n",
       "      <th>ID</th>\n",
       "      <th>LABEL</th>\n",
       "    </tr>\n",
       "  </thead>\n",
       "  <tbody>\n",
       "    <tr>\n",
       "      <th>count</th>\n",
       "      <td>7.031100e+04</td>\n",
       "      <td>70311.000000</td>\n",
       "    </tr>\n",
       "    <tr>\n",
       "      <th>mean</th>\n",
       "      <td>9.236909e+18</td>\n",
       "      <td>0.813756</td>\n",
       "    </tr>\n",
       "    <tr>\n",
       "      <th>std</th>\n",
       "      <td>5.341532e+18</td>\n",
       "      <td>0.831366</td>\n",
       "    </tr>\n",
       "    <tr>\n",
       "      <th>min</th>\n",
       "      <td>5.764730e+14</td>\n",
       "      <td>0.000000</td>\n",
       "    </tr>\n",
       "    <tr>\n",
       "      <th>25%</th>\n",
       "      <td>4.592502e+18</td>\n",
       "      <td>0.000000</td>\n",
       "    </tr>\n",
       "    <tr>\n",
       "      <th>50%</th>\n",
       "      <td>9.272107e+18</td>\n",
       "      <td>1.000000</td>\n",
       "    </tr>\n",
       "    <tr>\n",
       "      <th>75%</th>\n",
       "      <td>1.387516e+19</td>\n",
       "      <td>2.000000</td>\n",
       "    </tr>\n",
       "    <tr>\n",
       "      <th>max</th>\n",
       "      <td>1.844662e+19</td>\n",
       "      <td>2.000000</td>\n",
       "    </tr>\n",
       "  </tbody>\n",
       "</table>\n",
       "</div>"
      ],
      "text/plain": [
       "                 ID         LABEL\n",
       "count  7.031100e+04  70311.000000\n",
       "mean   9.236909e+18      0.813756\n",
       "std    5.341532e+18      0.831366\n",
       "min    5.764730e+14      0.000000\n",
       "25%    4.592502e+18      0.000000\n",
       "50%    9.272107e+18      1.000000\n",
       "75%    1.387516e+19      2.000000\n",
       "max    1.844662e+19      2.000000"
      ]
     },
     "execution_count": 9,
     "metadata": {},
     "output_type": "execute_result"
    }
   ],
   "source": [
    "df_train.describe()"
   ]
  },
  {
   "cell_type": "code",
   "execution_count": 10,
   "id": "c905f6d9",
   "metadata": {},
   "outputs": [
    {
     "data": {
      "text/html": [
       "<div>\n",
       "<style scoped>\n",
       "    .dataframe tbody tr th:only-of-type {\n",
       "        vertical-align: middle;\n",
       "    }\n",
       "\n",
       "    .dataframe tbody tr th {\n",
       "        vertical-align: top;\n",
       "    }\n",
       "\n",
       "    .dataframe thead th {\n",
       "        text-align: right;\n",
       "    }\n",
       "</style>\n",
       "<table border=\"1\" class=\"dataframe\">\n",
       "  <thead>\n",
       "    <tr style=\"text-align: right;\">\n",
       "      <th></th>\n",
       "      <th>ID</th>\n",
       "      <th>TEXT</th>\n",
       "    </tr>\n",
       "  </thead>\n",
       "  <tbody>\n",
       "    <tr>\n",
       "      <th>0</th>\n",
       "      <td>4728459160322025755</td>\n",
       "      <td>An excellent debut movie for the the director ...</td>\n",
       "    </tr>\n",
       "    <tr>\n",
       "      <th>1</th>\n",
       "      <td>1840432070229003467</td>\n",
       "      <td>If you have a preschooler or remember how stre...</td>\n",
       "    </tr>\n",
       "    <tr>\n",
       "      <th>2</th>\n",
       "      <td>12623336783082722606</td>\n",
       "      <td>What should have been a routine babysitting gi...</td>\n",
       "    </tr>\n",
       "    <tr>\n",
       "      <th>3</th>\n",
       "      <td>7446733850828603409</td>\n",
       "      <td>Cute but</td>\n",
       "    </tr>\n",
       "    <tr>\n",
       "      <th>4</th>\n",
       "      <td>16180660281866613068</td>\n",
       "      <td>Elvis Presley plays a \"half-breed\" Native Amer...</td>\n",
       "    </tr>\n",
       "  </tbody>\n",
       "</table>\n",
       "</div>"
      ],
      "text/plain": [
       "                     ID                                               TEXT\n",
       "0   4728459160322025755  An excellent debut movie for the the director ...\n",
       "1   1840432070229003467  If you have a preschooler or remember how stre...\n",
       "2  12623336783082722606  What should have been a routine babysitting gi...\n",
       "3   7446733850828603409                                           Cute but\n",
       "4  16180660281866613068  Elvis Presley plays a \"half-breed\" Native Amer..."
      ]
     },
     "execution_count": 10,
     "metadata": {},
     "output_type": "execute_result"
    }
   ],
   "source": [
    "df_test.head()"
   ]
  },
  {
   "cell_type": "code",
   "execution_count": 11,
   "id": "6dafcdba",
   "metadata": {},
   "outputs": [
    {
     "name": "stdout",
     "output_type": "stream",
     "text": [
      "Dataframe shape: 17580\n",
      "Dataframe types: \n",
      "ID      uint64\n",
      "TEXT    object\n",
      "dtype: object\n"
     ]
    }
   ],
   "source": [
    "print(f\"Dataframe shape: {df_test.shape[0]}\")\n",
    "print(f\"Dataframe types: \\n{df_test.dtypes}\")"
   ]
  },
  {
   "cell_type": "code",
   "execution_count": 12,
   "id": "17920404",
   "metadata": {},
   "outputs": [
    {
     "name": "stdout",
     "output_type": "stream",
     "text": [
      "<class 'pandas.core.frame.DataFrame'>\n",
      "RangeIndex: 17580 entries, 0 to 17579\n",
      "Data columns (total 2 columns):\n",
      " #   Column  Non-Null Count  Dtype \n",
      "---  ------  --------------  ----- \n",
      " 0   ID      17580 non-null  uint64\n",
      " 1   TEXT    17579 non-null  object\n",
      "dtypes: object(1), uint64(1)\n",
      "memory usage: 274.8+ KB\n"
     ]
    }
   ],
   "source": [
    "df_test.info()"
   ]
  },
  {
   "cell_type": "code",
   "execution_count": 13,
   "id": "1107695c",
   "metadata": {},
   "outputs": [],
   "source": [
    "df_test['TEXT'].fillna(value='Unknown', inplace=True)"
   ]
  },
  {
   "cell_type": "code",
   "execution_count": 14,
   "id": "c958c6d1",
   "metadata": {},
   "outputs": [
    {
     "name": "stdout",
     "output_type": "stream",
     "text": [
      "<class 'pandas.core.frame.DataFrame'>\n",
      "RangeIndex: 17580 entries, 0 to 17579\n",
      "Data columns (total 2 columns):\n",
      " #   Column  Non-Null Count  Dtype \n",
      "---  ------  --------------  ----- \n",
      " 0   ID      17580 non-null  uint64\n",
      " 1   TEXT    17580 non-null  object\n",
      "dtypes: object(1), uint64(1)\n",
      "memory usage: 274.8+ KB\n"
     ]
    }
   ],
   "source": [
    "df_test.info()"
   ]
  },
  {
   "cell_type": "markdown",
   "id": "016bb174",
   "metadata": {},
   "source": [
    "### 2.1 Let's take a look at our data distribution:"
   ]
  },
  {
   "cell_type": "code",
   "execution_count": 15,
   "id": "7c0f66b4",
   "metadata": {},
   "outputs": [
    {
     "data": {
      "image/png": "[encoded data removed]",
      "text/plain": [
       "<Figure size 6500x1500 with 2 Axes>"
      ]
     },
     "metadata": {},
     "output_type": "display_data"
    },
    {
     "name": "stdout",
     "output_type": "stream",
     "text": [
      "LABEL\n",
      "0    32065\n",
      "1    19276\n",
      "2    18970\n",
      "Name: count, dtype: int64\n"
     ]
    }
   ],
   "source": [
    "# Define figure and subplots\n",
    "labels = [\"¬Reviews (0)\",\"Positive (1)\", \"Negative (2)\"]\n",
    "fig, (ax1, ax2) = plt.subplots(1, 2, figsize=(13, 3), dpi=500)\n",
    "colors = ['tab:blue', 'tab:orange', 'tab:green']\n",
    "\n",
    "# Plotting the bar chart for label distribution\n",
    "label_counts = df_train['LABEL'].value_counts()\n",
    "ax1.barh(label_counts.index, label_counts, alpha=1.0,color=colors)\n",
    "ax1.set_xlabel('Count')\n",
    "ax1.set_title('Label Distribution (Bar Chart)')\n",
    "ax1.grid(True, linestyle='dotted')\n",
    "ax1.set_yticks(np.arange(len(label_counts)))\n",
    "\n",
    "# Plotting the pie chart for label distribution\n",
    "\n",
    "ax2.pie(label_counts, autopct='%1.1f%%', pctdistance=0.50,startangle=140,colors=colors)\n",
    "ax2.set_title('Label Distribution (Pie Chart)')\n",
    "ax2.axis('equal')  # Equal aspect ratio ensures that pie is drawn as a circle\n",
    "ax2.legend(labels,\n",
    "          title='Labels',\n",
    "          loc='upper left')\n",
    "\n",
    "plt.tight_layout()  # Adjust layout to prevent overlapping\n",
    "plt.show()\n",
    "print(df_train['LABEL'].value_counts())"
   ]
  },
  {
   "cell_type": "markdown",
   "id": "e76106f1",
   "metadata": {},
   "source": [
    "**Notes:** Consider *resampling techniques* to handle the skewed data. &#x2713;"
   ]
  },
  {
   "cell_type": "markdown",
   "id": "227d9d2d",
   "metadata": {},
   "source": [
    "### 2.2 Let's take a deeper look:"
   ]
  },
  {
   "cell_type": "code",
   "execution_count": 16,
   "id": "cfd28ac7",
   "metadata": {},
   "outputs": [],
   "source": [
    "# Consider the word count of each review \n",
    "df_train['WORD_COUNT'] = df_train['TEXT'].apply(word_tokenize)\n",
    "df_train['WORD_COUNT'] = df_train['WORD_COUNT'].apply(len)"
   ]
  },
  {
   "cell_type": "code",
   "execution_count": 17,
   "id": "407bac7a",
   "metadata": {},
   "outputs": [
    {
     "data": {
      "text/html": [
       "<div>\n",
       "<style scoped>\n",
       "    .dataframe tbody tr th:only-of-type {\n",
       "        vertical-align: middle;\n",
       "    }\n",
       "\n",
       "    .dataframe tbody tr th {\n",
       "        vertical-align: top;\n",
       "    }\n",
       "\n",
       "    .dataframe thead th {\n",
       "        text-align: right;\n",
       "    }\n",
       "</style>\n",
       "<table border=\"1\" class=\"dataframe\">\n",
       "  <thead>\n",
       "    <tr style=\"text-align: right;\">\n",
       "      <th></th>\n",
       "      <th>ID</th>\n",
       "      <th>TEXT</th>\n",
       "      <th>LABEL</th>\n",
       "      <th>WORD_COUNT</th>\n",
       "    </tr>\n",
       "  </thead>\n",
       "  <tbody>\n",
       "    <tr>\n",
       "      <th>0</th>\n",
       "      <td>7850790573542594519</td>\n",
       "      <td>If you love good films don't ever buy this pei...</td>\n",
       "      <td>2</td>\n",
       "      <td>14</td>\n",
       "    </tr>\n",
       "    <tr>\n",
       "      <th>1</th>\n",
       "      <td>9392069522632994700</td>\n",
       "      <td>The 33 percent of the nations nitwits that sti...</td>\n",
       "      <td>2</td>\n",
       "      <td>233</td>\n",
       "    </tr>\n",
       "    <tr>\n",
       "      <th>2</th>\n",
       "      <td>5083704536542443514</td>\n",
       "      <td>I saw Anatomy years ago -- dubbed at a friends...</td>\n",
       "      <td>1</td>\n",
       "      <td>146</td>\n",
       "    </tr>\n",
       "    <tr>\n",
       "      <th>3</th>\n",
       "      <td>12418349755186772171</td>\n",
       "      <td>Dark Remains is a home run plain and simple. T...</td>\n",
       "      <td>1</td>\n",
       "      <td>152</td>\n",
       "    </tr>\n",
       "    <tr>\n",
       "      <th>4</th>\n",
       "      <td>12144957944004619479</td>\n",
       "      <td>Feh. This movie started out in an interesting ...</td>\n",
       "      <td>2</td>\n",
       "      <td>409</td>\n",
       "    </tr>\n",
       "  </tbody>\n",
       "</table>\n",
       "</div>"
      ],
      "text/plain": [
       "                     ID                                               TEXT  \\\n",
       "0   7850790573542594519  If you love good films don't ever buy this pei...   \n",
       "1   9392069522632994700  The 33 percent of the nations nitwits that sti...   \n",
       "2   5083704536542443514  I saw Anatomy years ago -- dubbed at a friends...   \n",
       "3  12418349755186772171  Dark Remains is a home run plain and simple. T...   \n",
       "4  12144957944004619479  Feh. This movie started out in an interesting ...   \n",
       "\n",
       "   LABEL  WORD_COUNT  \n",
       "0      2          14  \n",
       "1      2         233  \n",
       "2      1         146  \n",
       "3      1         152  \n",
       "4      2         409  "
      ]
     },
     "execution_count": 17,
     "metadata": {},
     "output_type": "execute_result"
    }
   ],
   "source": [
    "df_train.head()"
   ]
  },
  {
   "cell_type": "markdown",
   "id": "0b4ade89",
   "metadata": {},
   "source": [
    "**Notes:** Remember to handle HTML tags &#x2713; , character escape sequences &#x2713;, en dashes &#x2713;, large proportion of non reviews &#x2713;, accents &#x2713;, emoticons &#x2713;, difference languages &#x274c;, etc..."
   ]
  },
  {
   "cell_type": "markdown",
   "id": "8694f357",
   "metadata": {},
   "source": [
    "## 3. Preprocessing Data\n",
    "Convert text to numerical features for a machine learning model.\n",
    "- TF-IDF is an improvement over the BoW model for penalizing common words (e.g., the) in a document, and boosts terms that appear in a smaller amount of documents. \n",
    "- Note: TF-IDF naturally acts as a downboost for stopwords in information retrieval, therefore we will need to supply our own stopword list. Additionally, our documents are reviews and may behave differently than expected when using tf-idf weighting.\n",
    "- Neither handle certain linguistic features such as negation and sarcasm particularly well—leading to Word2Vec\n",
    "- Custom lexicons (i.e reviews, movies, and contractions word list)"
   ]
  },
  {
   "cell_type": "code",
   "execution_count": 18,
   "id": "f179879e",
   "metadata": {},
   "outputs": [],
   "source": [
    "contractions_path = \"../lexicon/contractions.csv\"\n",
    "contractions = pd.read_csv(contractions_path, index_col='Contraction')\n",
    "contractions_index = contractions.index.str.lower()\n",
    "contractions.Meaning = contractions.Meaning.str.lower()\n",
    "contractions_dict = contractions.to_dict()['Meaning']"
   ]
  },
  {
   "cell_type": "code",
   "execution_count": 19,
   "id": "a977bd55",
   "metadata": {},
   "outputs": [],
   "source": [
    "reviews_syn_path = \"../lexicon/reviews.csv\"\n",
    "reviews_syn = pd.read_csv(reviews_syn_path, index_col='Word')\n",
    "reviews_index = reviews_syn.index.str.lower()\n",
    "reviews_syn.Synonym = reviews_syn.Synonym.str.lower()\n",
    "reviews_dict = reviews_syn.to_dict()['Synonym']"
   ]
  },
  {
   "cell_type": "code",
   "execution_count": 20,
   "id": "4da01c7d",
   "metadata": {},
   "outputs": [],
   "source": [
    "films_syn_path = \"../lexicon/films.csv\"\n",
    "films_syn = pd.read_csv(films_syn_path, index_col='Word')\n",
    "films_index = films_syn.index.str.lower()\n",
    "films_syn.Synonym = films_syn.Synonym.str.lower()\n",
    "films_dict = films_syn.to_dict()['Synonym']"
   ]
  },
  {
   "cell_type": "code",
   "execution_count": 21,
   "id": "a77281ba",
   "metadata": {},
   "outputs": [],
   "source": [
    "stopwords_path = \"../lexicon/stopwords.txt\"\n",
    "with open(stopwords_path, 'r') as file:\n",
    "    stopwords = file.readlines()\n",
    "stopwords = [word.rstrip() for word in stopwords] "
   ]
  },
  {
   "cell_type": "code",
   "execution_count": 22,
   "id": "52412cd9",
   "metadata": {},
   "outputs": [
    {
     "name": "stdout",
     "output_type": "stream",
     "text": [
      "['i', 'me', 'my', 'myself', 'we', 'our', 'ours', 'ourselves', 'you', 'your', 'yours', 'yourself', 'yourselves', 'he', 'him', 'his', 'himself', 'she', 'her', 'hers', 'herself', 'it', 'its', 'itself', 'they', 'them', 'their', 'theirs', 'themselves', 'what', 'which', 'who', 'whom', 'this', 'that', 'these', 'those', 'am', 'is', 'are', 'was', 'were', 'be', 'been', 'being', 'have', 'has', 'had', 'having', 'does', 'doing', 'a', 'an', 'the', 'or', 'because', 'as', 'until', 'while', 'of', 'at', 'by', 'for', 'with', 'about', 'against', 'between', 'into', 'through', 'during', 'before', 'after', 'above', 'below', 'from', 'up', 'down', 'in', 'out', 'on', 'off', 'over', 'under', 'again', 'further', 'then', 'once', 'here', 'there', 'when', 'where', 'how', 'any', 'each', 'few', 'more', 'most', 'other', 'some', 'such', 'same', 'so', 'than', 's', 'now', 'and']\n"
     ]
    }
   ],
   "source": [
    "print(stopwords)"
   ]
  },
  {
   "cell_type": "markdown",
   "id": "15601922",
   "metadata": {},
   "source": [
    "### Regular Preprocessing"
   ]
  },
  {
   "cell_type": "code",
   "execution_count": 23,
   "id": "251e722e",
   "metadata": {},
   "outputs": [],
   "source": [
    "hyperlink         = r\"<a href=.*</a>\"\n",
    "urlPattern        = r\"((http://)[^ ]*|(https://)[^ ]*|(www\\.)[^ ]*)\"\n",
    "lineBreakHTML     = r\"<br /><br />?\"\n",
    "lineBreakHTML2    = r\"<br />\"\n",
    "dashes            = r\"\\x86\"\n",
    "unknown_c         = r\"\\x96\"\n",
    "newline           = r\"(\\n)+\"\n",
    "nonalphanumeric   = \"[^a-z0-9<>]\"\n",
    "money             = r\"(£\\d{1,3}(,\\d{3})*(\\.\\d+)?)+|(\\$\\d{1,4}(,\\d{4})*(\\.\\d+)?)+\"\n",
    "\n",
    "# Defining regex for emojis\n",
    "smileemoji        = r\"[8:=;]['`\\-]?[)d]+\"\n",
    "sademoji          = r\"[8:=;]['`\\-]?\\(+\"\n",
    "neutralemoji      = r\"[8:=;]['`\\-]?[\\/|l*]\"\n",
    "lolemoji          = r\"[8:=;]['`\\-]?p+\"\n",
    "exclamation       = r\"!!+\"\n",
    "ellipsis          = r\"\\.{2,}\""
   ]
  },
  {
   "cell_type": "code",
   "execution_count": 24,
   "id": "2f03ee22",
   "metadata": {},
   "outputs": [],
   "source": [
    "class TextToFeatures():\n",
    "    def __init__(self):\n",
    "        '''\n",
    "        Initializes an object for converting texts to features\n",
    "        '''\n",
    "        self.vectorizer = TfidfVectorizer(strip_accents='unicode', lowercase=True, preprocessor=self.preprocess_text, \n",
    "                                          tokenizer=self.nltk_tokenizer, stop_words=stopwords, token_pattern=None, \n",
    "                                          ngram_range=(1,3), min_df=4, binary=False, sublinear_tf=True)\n",
    "#         self.lemmatizer = WordNetLemmatizer()\n",
    "        \n",
    "    def nltk_tokenizer(self, document):\n",
    "        return word_tokenize(document)\n",
    "        \n",
    "    def preprocess_text(self, document):\n",
    "        '''\n",
    "        Use vaious RegExs to preprocess text.\n",
    "        \n",
    "        @param document: text reviews\n",
    "        @return: processed text\n",
    "        '''              \n",
    "        clean_review = document.lower()\n",
    "        clean_review = re.sub(hyperlink, \" <LINK> \", clean_review)\n",
    "        clean_review = re.sub(urlPattern, \" <URL> \", clean_review)\n",
    "        clean_review = re.sub(lineBreakHTML, \" \", clean_review)\n",
    "        clean_review = re.sub(lineBreakHTML2, \" \", clean_review)\n",
    "        clean_review = re.sub(dashes, \" \", clean_review)\n",
    "        clean_review = re.sub(unknown_c, \" \", clean_review)\n",
    "        clean_review = re.sub(newline, \" \", clean_review)\n",
    "        clean_review = re.sub(money, \" \", clean_review)\n",
    "        clean_review = re.sub(smileemoji, \" <positve> \", clean_review)\n",
    "        clean_review = re.sub(sademoji, \" <negative> \", clean_review)\n",
    "        clean_review = re.sub(neutralemoji, \"<neutral> \", clean_review)\n",
    "        clean_review = re.sub(lolemoji, \"<positive> \", clean_review)\n",
    "        clean_review = re.sub(ellipsis, ' <suspense> ', clean_review)\n",
    "        clean_review = re.sub(exclamation, ' <intensity> ', clean_review)\n",
    "        \n",
    "        # Normalized Phrases \n",
    "        clean_review = re.sub(r\"can not wait\", ' <positive> ', clean_review)\n",
    "        clean_review = re.sub(r'\\b[\\w\\-.]+?@\\w+?\\.\\w{2,4}\\b', ' ', clean_review) # remove emails\n",
    "        clean_review = re.sub(r'zero( star)? rating', ' <negative> ', clean_review)\n",
    "        clean_review = re.sub(r'2 thumbs up', ' <positive> ', clean_review)\n",
    "        clean_review = re.sub(r'high rating', ' <positive> ', clean_review)\n",
    "        clean_review = re.sub(r'must read', ' <positive> book', clean_review)\n",
    "        clean_review = re.sub(r'big screen', ' theatre', clean_review)\n",
    "        clean_review = re.sub(r'(?<=deserves a )zero', ' <negative> ', clean_review)\n",
    "        clean_review = re.sub(r'sit through', ' watch ', clean_review)\n",
    "        clean_review = re.sub(r'(?<=on the )screen', ' movies', clean_review)\n",
    "        clean_review = re.sub(r'movie buff', ' cinephile', clean_review)\n",
    "        clean_review = re.sub(r'nine out of ten', ' <positive> ', clean_review)\n",
    "                \n",
    "        new_text = []        \n",
    "        for w in clean_review.split():\n",
    "            if w in films_dict:\n",
    "                new_text.append(films_dict[w])\n",
    "            elif w in reviews_dict:\n",
    "                new_text.append(reviews_dict[w])\n",
    "            elif w in contractions_dict:\n",
    "                new_text.append(contractions_dict[w])\n",
    "            else:\n",
    "                new_text.append(w)\n",
    "        processed_review = ' '.join(new_text)  \n",
    "    \n",
    "        return processed_review    \n",
    "\n",
    "    def get_most_common_words(self, texts, num_words=10):\n",
    "        '''\n",
    "        Returns a list of the most common words in the given texts along with their frequencies.\n",
    "        \n",
    "        @param texts: List of text documents\n",
    "        @param num_words: Number of most common words to return\n",
    "        @return: List of tuples containing (word, frequency) pairs\n",
    "        '''\n",
    "        words = [word for text in texts for word in self.nltk_tokenizer(self.preprocess_text(text))]\n",
    "        word_counts = Counter(words)\n",
    "        \n",
    "        most_common_words = word_counts.most_common(num_words)\n",
    "        return most_common_words\n",
    "           \n",
    "    def fit(self, training_texts):\n",
    "        '''\n",
    "        Fits (\"trains\") a TextToFeature instance on a collection of documents.\n",
    "        \n",
    "        The provided training texts are analyzed to determine the vocabulary, \n",
    "        i.e., all feature values that the converter will support. \n",
    "        Each such feature value will be associated with a unique integer index \n",
    "        that may later be accessed via the .index() method.\n",
    "        '''\n",
    "        self.vectorizer.fit(training_texts)\n",
    "        \n",
    "    def index(self, feature):\n",
    "        '''\n",
    "        Returns the index in the vocabulary of the given feature value.  \n",
    "        If the features isn't present, return None.\n",
    "\n",
    "        @param feature: feature\n",
    "        @return: unique integer index associated with the feature or None if not present.\n",
    "        '''\n",
    "        terms = self.vectorizer.vocabulary_\n",
    "        index = terms.get(feature, None)\n",
    "        return index\n",
    "    \n",
    "    def get_vocab_size(self):\n",
    "        return len(self.vectorizer.vocabulary_)\n",
    "    \n",
    "#     def penn_to_wn(self,tag):\n",
    "#         if tag.startswith('J'):\n",
    "#             return wn.ADJ\n",
    "#         elif tag.startswith('N'):\n",
    "#             return wn.NOUN\n",
    "#         elif tag.startswith('R'):\n",
    "#             return wn.ADV\n",
    "#         elif tag.startswith('V'):\n",
    "#             return wn.VERB\n",
    "#         return None\n",
    "    \n",
    "#     def get_sentiment(self,word,tag):\n",
    "#         wn_tag = self.penn_to_wn(tag)\n",
    "#         if wn_tag not in (wn.NOUN, wn.ADJ, wn.ADV):\n",
    "#             return []\n",
    "\n",
    "#         lemma = self.lemmatizer.lemmatize(word, pos=wn_tag)\n",
    "#         if not lemma:\n",
    "#             return []\n",
    "\n",
    "#         synsets = wn.synsets(word, pos=wn_tag)\n",
    "#         if not synsets:\n",
    "#             return []\n",
    "\n",
    "#         synset = synsets[0]\n",
    "#         swn_synset = swn.senti_synset(synset.name())\n",
    "#         return [synset.name(), swn_synset.pos_score(),swn_synset.neg_score(),swn_synset.obj_score()]\n",
    "\n",
    "#     def calculate_sentiment_score(self, reviews):\n",
    "#         senti_score = []\n",
    "#         for review in reviews:\n",
    "#             pos = neg = 0\n",
    "#             pos_list = word_tokenize(self.preprocess_text(review))\n",
    "#             pos_val = nltk.pos_tag(pos_list)\n",
    "#             senti_val = [self.get_sentiment(x, y) for (x, y) in pos_val]\n",
    "#             for score in senti_val:\n",
    "#                 try:\n",
    "#                     pos += score[1] \n",
    "#                     neg += score[2]\n",
    "#                 except:\n",
    "#                     continue\n",
    "#             senti_score.append(pos - neg)\n",
    "\n",
    "#         return csr_matrix(np.array(senti_score).reshape(-1, 1))\n",
    "\n",
    "    def transform(self, texts):\n",
    "        '''\n",
    "        Creates a feature matrix from a sequence of texts.\n",
    "        \n",
    "        @param :\n",
    "        @return : \n",
    "        '''        \n",
    "        features = self.vectorizer.transform(texts)\n",
    "\n",
    "        doc_len = np.array([len(text.split()) for text in texts]) \n",
    "        doc_len_sparse = csr_matrix(doc_len.reshape(-1, 1)) \n",
    "        combined_matrix = hstack([features, doc_len_sparse])\n",
    "        \n",
    "        doc_n_sents = np.array([len(sent_tokenize(text)) for text in texts])\n",
    "        docs_n_sents_sp = csr_matrix(doc_n_sents.reshape(-1,1))\n",
    "        combined_matrix = hstack([combined_matrix,docs_n_sents_sp])\n",
    "        \n",
    "        len_last_sent = np.array([len(sent_tokenize(text)[-1].split()) if text.strip() and sent_tokenize(text) else 0 for text in texts])\n",
    "        len_sp = csr_matrix(len_last_sent.reshape(-1,1))\n",
    "        combined_matrix = hstack([combined_matrix,len_sp])\n",
    "        \n",
    "#         senti_sp = self.calculate_sentiment_score(texts)\n",
    "#         combined_matrix = hstack([combined_matrix, senti_sp])\n",
    "        \n",
    "        return combined_matrix"
   ]
  },
  {
   "cell_type": "markdown",
   "id": "cf6d77d1",
   "metadata": {},
   "source": [
    "## 4. Supervised Machine Learning\n",
    "Multi-Classification using TF-IDF for Sentiment Analysis."
   ]
  },
  {
   "cell_type": "markdown",
   "id": "5b5f20df",
   "metadata": {},
   "source": [
    "#### Development Set\n",
    "> Note: This leaderboard is calculated with approximately 80% of the test data. The final results will be based on the other 20%, so the final standings may be different. Create a development set! \n",
    "- After finding a certain F1-score satisfactory, train the entire dataset and then upload to Kaggle!"
   ]
  },
  {
   "cell_type": "code",
   "execution_count": 25,
   "id": "316b0a95",
   "metadata": {},
   "outputs": [],
   "source": [
    "training_labels = df_train['LABEL']"
   ]
  },
  {
   "cell_type": "code",
   "execution_count": 26,
   "id": "96538c34",
   "metadata": {},
   "outputs": [],
   "source": [
    "training_examples = df_train['TEXT']\n",
    "training_texts = [review for review in training_examples]"
   ]
  },
  {
   "cell_type": "code",
   "execution_count": 27,
   "id": "30174bf8",
   "metadata": {},
   "outputs": [],
   "source": [
    "X_train, X_dev, y_train, y_dev = train_test_split(training_texts, training_labels, test_size=0.2, random_state=42, stratify=None)"
   ]
  },
  {
   "cell_type": "markdown",
   "id": "4a821fd7",
   "metadata": {},
   "source": [
    "### Logistic Regression with TF-IDF, Bag-of-Words, and etc\n",
    "- Logistic Regression with TF-IDF, Bag-of-Words (BoW), and Word2Vec"
   ]
  },
  {
   "cell_type": "code",
   "execution_count": 28,
   "id": "a90edc03",
   "metadata": {},
   "outputs": [],
   "source": [
    "# Calculate class weights\n",
    "total_samples = len(training_labels)\n",
    "class_weights = {0: total_samples/(3*32071), 1: total_samples/(3*19276), 2: total_samples/(3*18970)}"
   ]
  },
  {
   "cell_type": "code",
   "execution_count": 29,
   "id": "f5b97633",
   "metadata": {},
   "outputs": [],
   "source": [
    "# Logistic Regression model\n",
    "class LRClassifier():\n",
    "    def __init__(self):\n",
    "        '''\n",
    "        Initializes a Logistic Regression classifier. \n",
    "        '''\n",
    "        self.clf = LogisticRegression(penalty='l2', tol=0.0000001, C=100.0, class_weight=class_weights,\n",
    "                                      random_state=42,solver='liblinear', max_iter=1000, multi_class='auto',\n",
    "                                      l1_ratio=None)\n",
    "        \n",
    "    def train(self, features, labels):\n",
    "        '''\n",
    "        Trains the classifier using the given training data (features, y_labels).\n",
    "        \n",
    "        @param features: fill later\n",
    "        @param labels: non-review, positive, negative\n",
    "        '''\n",
    "        self.clf.fit(features, labels)\n",
    "        \n",
    "    def predict(self, features):\n",
    "        '''\n",
    "        Makes predictions for each of the given examples. \n",
    "        \n",
    "        @param features: fill later\n",
    "        '''\n",
    "        y_hats = self.clf.predict(features)\n",
    "        return y_hats"
   ]
  },
  {
   "cell_type": "markdown",
   "id": "6071e82c",
   "metadata": {},
   "source": [
    "### Model Initialization \n",
    "- Initialize classifier\n",
    "- Dimensions (i.e., number of documents and the size of the vocabulary)\n",
    "- Report training and prediction time"
   ]
  },
  {
   "cell_type": "code",
   "execution_count": 30,
   "id": "9f365185",
   "metadata": {},
   "outputs": [],
   "source": [
    "clf_instance = LRClassifier()"
   ]
  },
  {
   "cell_type": "code",
   "execution_count": 31,
   "id": "3380840d",
   "metadata": {},
   "outputs": [],
   "source": [
    "clf = LRClassifier()\n",
    "clf2 = MultinomialNB()"
   ]
  },
  {
   "cell_type": "code",
   "execution_count": 32,
   "id": "70324c30",
   "metadata": {},
   "outputs": [],
   "source": [
    "t2f_instance = TextToFeatures()"
   ]
  },
  {
   "cell_type": "code",
   "execution_count": 33,
   "id": "6268fe8b",
   "metadata": {
    "scrolled": false
   },
   "outputs": [
    {
     "name": "stdout",
     "output_type": "stream",
     "text": [
      "Fitting the vocabulary...\n",
      "Training time [s]: 43.542\n"
     ]
    }
   ],
   "source": [
    "# fit vocabulary\n",
    "start_ts = time.time()\n",
    "print(f\"Fitting the vocabulary...\")\n",
    "to_features = TextToFeatures()\n",
    "to_features.fit(X_train)\n",
    "end_ts = time.time()\n",
    "print(f\"Training time [s]: {end_ts-start_ts:.3f}\")"
   ]
  },
  {
   "cell_type": "code",
   "execution_count": 34,
   "id": "1462411a",
   "metadata": {},
   "outputs": [
    {
     "name": "stdout",
     "output_type": "stream",
     "text": [
      "Transforming the vocabulary...\n",
      "Training time [s]: 50.248\n"
     ]
    }
   ],
   "source": [
    "# transform into matrix\n",
    "start_ts = time.time()\n",
    "print(f\"Transforming the vocabulary...\")\n",
    "X = to_features.transform(X_train)\n",
    "end_ts = time.time()\n",
    "print(f\"Training time [s]: {end_ts-start_ts:.3f}\")"
   ]
  },
  {
   "cell_type": "code",
   "execution_count": 35,
   "id": "3618b91b",
   "metadata": {
    "scrolled": true
   },
   "outputs": [
    {
     "name": "stdout",
     "output_type": "stream",
     "text": [
      "Number of documents: 56248 \n",
      "Vocabulary Size: 314217\n"
     ]
    }
   ],
   "source": [
    "num_docs, vocab_size = X.shape\n",
    "print(f\"Number of documents: {num_docs} \\nVocabulary Size: {vocab_size}\")"
   ]
  },
  {
   "cell_type": "markdown",
   "id": "1b793038",
   "metadata": {},
   "source": [
    "### Logistic Regression Classifier"
   ]
  },
  {
   "cell_type": "code",
   "execution_count": 36,
   "id": "b617631a",
   "metadata": {
    "scrolled": false
   },
   "outputs": [
    {
     "name": "stdout",
     "output_type": "stream",
     "text": [
      "Training the model...\n",
      "Training time [s]: 47.370\n"
     ]
    }
   ],
   "source": [
    "# Train Logistic Regression & get Training Time\n",
    "start_ts = time.time()\n",
    "print(f\"Training the model...\")\n",
    "clf.train(X, y_train)\n",
    "end_ts = time.time()\n",
    "print(f\"Training time [s]: {end_ts-start_ts:.3f}\")"
   ]
  },
  {
   "cell_type": "code",
   "execution_count": 37,
   "id": "d8f2faa1",
   "metadata": {},
   "outputs": [
    {
     "name": "stdout",
     "output_type": "stream",
     "text": [
      "Making predictions...\n",
      "Prediction time [s]: 12.641\n"
     ]
    }
   ],
   "source": [
    "# Use model to predict & get Prediction Time\n",
    "start_ts = time.time()\n",
    "print(f\"Making predictions...\")\n",
    "y_pred = clf.predict(to_features.transform(X_dev))\n",
    "end_ts = time.time()\n",
    "print(f\"Prediction time [s]: {end_ts-start_ts:.3f}\")"
   ]
  },
  {
   "cell_type": "markdown",
   "id": "7ddad797",
   "metadata": {},
   "source": [
    "### Naive Bayes Classifier"
   ]
  },
  {
   "cell_type": "code",
   "execution_count": 38,
   "id": "35c662a0",
   "metadata": {},
   "outputs": [
    {
     "name": "stdout",
     "output_type": "stream",
     "text": [
      "Training the model...\n",
      "Training time [s]: 0.081\n"
     ]
    }
   ],
   "source": [
    "# Train Naive Bayes & get Training Time\n",
    "start_ts = time.time()\n",
    "print(f\"Training the model...\")\n",
    "clf2.fit(X, y_train)\n",
    "end_ts = time.time()\n",
    "print(f\"Training time [s]: {end_ts-start_ts:.3f}\")"
   ]
  },
  {
   "cell_type": "code",
   "execution_count": 39,
   "id": "5449888c",
   "metadata": {},
   "outputs": [
    {
     "name": "stdout",
     "output_type": "stream",
     "text": [
      "Making predictions...\n",
      "Prediction time [s]: 12.547\n"
     ]
    }
   ],
   "source": [
    "# Use model to predict & get Prediction Time\n",
    "start_ts = time.time()\n",
    "print(f\"Making predictions...\")\n",
    "y_pred2 = clf2.predict(to_features.transform(X_dev))\n",
    "end_ts = time.time()\n",
    "print(f\"Prediction time [s]: {end_ts-start_ts:.3f}\")"
   ]
  },
  {
   "cell_type": "markdown",
   "id": "09d49012",
   "metadata": {},
   "source": [
    "## 5. Multi-class Model Evaluation with Confusion Matrix and Classification Report\n",
    "- Use the classification to evaluate how well the model is\n",
    "- Identifying the \"Not a Movie Review\" class is non-trivial\n",
    "- Improve the discrimination between the Positive and Negative reviews\n",
    "- Don't forget to test your classifier on a couple outside reviews!"
   ]
  },
  {
   "cell_type": "code",
   "execution_count": 40,
   "id": "dbad7183",
   "metadata": {
    "scrolled": true
   },
   "outputs": [
    {
     "name": "stdout",
     "output_type": "stream",
     "text": [
      "F1 Score: 0.9276971018550585\n"
     ]
    }
   ],
   "source": [
    "f1score = f1_score(np.array(y_dev), y_pred, average='macro')\n",
    "print(f\"F1 Score: {f1score}\")"
   ]
  },
  {
   "cell_type": "code",
   "execution_count": 41,
   "id": "a3bd099e",
   "metadata": {},
   "outputs": [],
   "source": [
    "report = classification_report(np.array(y_dev), y_pred, labels=[0,1,2])"
   ]
  },
  {
   "cell_type": "code",
   "execution_count": 42,
   "id": "7249ac12",
   "metadata": {},
   "outputs": [],
   "source": [
    "target_names = [\"Not a Movie Review\", \"Positive Review\", \"Negative Review\"]"
   ]
  },
  {
   "cell_type": "code",
   "execution_count": 43,
   "id": "7d72b344",
   "metadata": {},
   "outputs": [
    {
     "name": "stdout",
     "output_type": "stream",
     "text": [
      "Classification Report: \n",
      "               precision    recall  f1-score   support\n",
      "\n",
      "           0       0.97      0.98      0.98      6430\n",
      "           1       0.90      0.89      0.90      3861\n",
      "           2       0.92      0.90      0.91      3772\n",
      "\n",
      "    accuracy                           0.94     14063\n",
      "   macro avg       0.93      0.93      0.93     14063\n",
      "weighted avg       0.94      0.94      0.94     14063\n",
      "\n"
     ]
    }
   ],
   "source": [
    "print(\"Classification Report: \\n\", report)"
   ]
  },
  {
   "cell_type": "code",
   "execution_count": 44,
   "id": "3867f9c7",
   "metadata": {},
   "outputs": [
    {
     "name": "stdout",
     "output_type": "stream",
     "text": [
      "Confusion Matrix: \n",
      " [[6320   77   33]\n",
      " [ 145 3445  271]\n",
      " [  62  301 3409]]\n"
     ]
    }
   ],
   "source": [
    "# confusion matrix!\n",
    "matrix = confusion_matrix(np.array(y_dev), y_pred, labels = [0, 1, 2])\n",
    "print(\"Confusion Matrix: \\n\", matrix)"
   ]
  },
  {
   "cell_type": "markdown",
   "id": "82748c07",
   "metadata": {},
   "source": [
    "### 5.1 Test your classifier!\n",
    "- Movie reviews from IMBD for The Boy and the Heron (2023).\n",
    "- Non-movie review from Amazon for OLLY Fiber Gummy Rings."
   ]
  },
  {
   "cell_type": "code",
   "execution_count": 45,
   "id": "16aacb31",
   "metadata": {},
   "outputs": [],
   "source": [
    "# Positive Review test\n",
    "review = \"\"\"Seeing The Boy and The Heron, Hayao Miyazaki's latest movie feels almost like a monumental event \n",
    "in and of itself. It was announced almost as a surprise with the words \"Hayao Miyazaki's last movie\". With \n",
    "this amount of hype, including the amazing reviews it's got from critics, my hype was built up to the max. \n",
    "The end result? Not what I expected, and that's ok!\n",
    "\n",
    "Let's get to the positives, the animation is STUNNING. The way Hayao Miyazaki manages to build these worlds \n",
    "and characters is just an amazing feat, they all come alive with the colours and the movement. Another positive \n",
    "is the tone of the movie, I really hate Disney for trying to market this as a kid's movie, when it's not. It's \n",
    "got some unnerving and scary moments and themes that are not suited for kids, which is good. Hayao Miyazaki is \n",
    "at his best when he manages to blend the adult with the fantastical.\n",
    "\n",
    "The actors are always amazing, I saw the Japanese dub so I don't know how the western VAs are doing but wow; \n",
    "they all do a fantastic job! Now to the negatives... a huge thing about Studio Ghibli movies in general, \n",
    "especially the ones from Hayao Miyazaki, is that they're always by rule driven by the characters, it's their \n",
    "journey that's in the front. World building and narrative always takes a second place in his movies to be able \n",
    "to not distract from the characters journeys, big examples of this are Spirited Away and Howl's Moving Castle \n",
    "where the world building is built by very simple and effective means and rules. But here in the Boy and The \n",
    "Heron the world building is so convoluted and confusing it almost feels like he wanted it to take center stage \n",
    "in this movie and it's such a shame because it feels at like it's at odds with it's own main character who \n",
    "supposedly undergoes a deep deep emotional journey but it all finishes off in a very abrupt and unfitting \n",
    "send-off in the end which really confused me and just didn't feel like a good payoff.\n",
    "\n",
    "Also the way this movie introduces characters left and right with no rhyme or reason is super confusing. Once \n",
    "again, Hayao Miyazaki did this very minimally in his past movies where the characters get room to be explored \n",
    "and to leave an impact in the story but here once again it's at odds with its own world building- it all feels \n",
    "very haphazard and messy. The Heron is a fun character but I don't feel like he or Mahito do or learn anything \n",
    "from these adventures.\n",
    "\n",
    "Now, it may sound like I hated this movie, but I didn't. It's just that I care so much about Hayao Miyazaki \n",
    "movies and Studio Ghibli movies that I can't help to compare them to the movies we've seen before. And despite \n",
    "it not being Hayao Miyazaki's best it's still pretty good, it's very much worth a watch.\"\"\""
   ]
  },
  {
   "cell_type": "code",
   "execution_count": 46,
   "id": "3b69c853",
   "metadata": {},
   "outputs": [
    {
     "name": "stdout",
     "output_type": "stream",
     "text": [
      "[1]\n"
     ]
    }
   ],
   "source": [
    "# single_pred = to_features.preprocess_text(review)\n",
    "print(clf.predict(to_features.transform([review])))"
   ]
  },
  {
   "cell_type": "code",
   "execution_count": 47,
   "id": "833deded",
   "metadata": {},
   "outputs": [],
   "source": [
    "# Negative Review test\n",
    "review2 = \"\"\"\n",
    "Three of us went to see this movie today (Sat 12/30/23). Preface: we LOVE Ghibli movies (we have \n",
    "watched 15+ of them) and have never watched one that we didn't enjoy... until today. First the good: animation \n",
    "was fantastic, voice work good, and music was good. But the script. OMG, the plot is a train wreck. The character \n",
    "development is nonexistent. Is there clear motivation and a compelling adversary? Nope. The ending was abrupt and \n",
    "unsatisfying. I will not spoil anything nor reveal any of the plot, but more WTF plot moments/elements than all \n",
    "other Ghibli movies COMBINED. We all rate it worse than Valerian. Two out of tree of us rated this movie THE \n",
    "WORST MOVIE WE HAVE EVER SEEN IN A THEATER, no joke! ~~You have been warned~~\n",
    "\"\"\""
   ]
  },
  {
   "cell_type": "code",
   "execution_count": 48,
   "id": "dee4ae1d",
   "metadata": {},
   "outputs": [
    {
     "name": "stdout",
     "output_type": "stream",
     "text": [
      "[2]\n"
     ]
    }
   ],
   "source": [
    "# single_pred2 = to_features.preprocess_text(review2)\n",
    "print(clf.predict(to_features.transform([review2])))"
   ]
  },
  {
   "cell_type": "code",
   "execution_count": 49,
   "id": "99d36d2e",
   "metadata": {},
   "outputs": [],
   "source": [
    "review3 = \"\"\"\n",
    "What a fantastic way to get your fiber in. Tastes like watermelon rings or the sour patch watermelon bites \n",
    "but with a sweeter taste to it, not so sour. I love Olly gummy supplements all together:\n",
    "\"\"\""
   ]
  },
  {
   "cell_type": "code",
   "execution_count": 50,
   "id": "545658b4",
   "metadata": {},
   "outputs": [
    {
     "name": "stdout",
     "output_type": "stream",
     "text": [
      "[0]\n"
     ]
    }
   ],
   "source": [
    "# single_pred3 = to_features.preprocess_text(review3)\n",
    "print(clf.predict(to_features.transform([review3])))"
   ]
  },
  {
   "cell_type": "markdown",
   "id": "62f9550b",
   "metadata": {},
   "source": [
    "## 5. Kaggle Upload\n",
    "- Train the classifier over the entire dataset and upload to Kaggle using the correct format.\n",
    "- Identify the data types for the csv file (uint84, int84)."
   ]
  },
  {
   "cell_type": "code",
   "execution_count": 51,
   "id": "980b434c",
   "metadata": {},
   "outputs": [],
   "source": [
    "X_train = training_texts\n",
    "y_train = training_labels"
   ]
  },
  {
   "cell_type": "code",
   "execution_count": 52,
   "id": "bc8d732e",
   "metadata": {},
   "outputs": [
    {
     "name": "stdout",
     "output_type": "stream",
     "text": [
      "Training time [s]: 117.628\n"
     ]
    }
   ],
   "source": [
    "# Fit & Transform Vocabulary over the entire dataset\n",
    "start_ts = time.time()\n",
    "to_features.fit(X_train)\n",
    "X = to_features.transform(X_train)\n",
    "end_ts = time.time()\n",
    "print(f\"Training time [s]: {end_ts-start_ts:.3f}\")"
   ]
  },
  {
   "cell_type": "code",
   "execution_count": 53,
   "id": "6d7bbbda",
   "metadata": {},
   "outputs": [
    {
     "name": "stdout",
     "output_type": "stream",
     "text": [
      "Training time [s]: 65.129\n"
     ]
    }
   ],
   "source": [
    "# Train the final classifier\n",
    "clf=LRClassifier()\n",
    "start_ts = time.time()\n",
    "clf.train(X, y_train)\n",
    "end_ts = time.time()\n",
    "print(f\"Training time [s]: {end_ts-start_ts:.3f}\")"
   ]
  },
  {
   "cell_type": "code",
   "execution_count": 54,
   "id": "ecd42cee",
   "metadata": {},
   "outputs": [
    {
     "name": "stdout",
     "output_type": "stream",
     "text": [
      "Length of test texts: 17580\n"
     ]
    }
   ],
   "source": [
    "# get the texts from the training data\n",
    "test_examples = df_test['TEXT']\n",
    "test_texts = [review for review in test_examples]\n",
    "\n",
    "# verify the count of training texts\n",
    "print(f\"Length of test texts: {len(test_texts)}\")"
   ]
  },
  {
   "cell_type": "code",
   "execution_count": 55,
   "id": "571401a7",
   "metadata": {},
   "outputs": [
    {
     "name": "stdout",
     "output_type": "stream",
     "text": [
      "Training time [s]: 15.309\n"
     ]
    }
   ],
   "source": [
    "# Make predictions on the test set\n",
    "start_ts = time.time()\n",
    "predicted = clf.predict(to_features.transform(test_texts))\n",
    "id_test = np.array(df_test['ID'])\n",
    "end_ts = time.time()\n",
    "print(f\"Training time [s]: {end_ts-start_ts:.3f}\")"
   ]
  },
  {
   "cell_type": "code",
   "execution_count": 56,
   "id": "2aec4759",
   "metadata": {},
   "outputs": [],
   "source": [
    "df1 = pd.DataFrame(id_test, columns=['ID'])\n",
    "df2 = pd.DataFrame(predicted, columns=['LABEL'])"
   ]
  },
  {
   "cell_type": "code",
   "execution_count": 57,
   "id": "1d1acd32",
   "metadata": {},
   "outputs": [
    {
     "data": {
      "text/plain": [
       "ID       uint64\n",
       "LABEL     int64\n",
       "dtype: object"
      ]
     },
     "execution_count": 57,
     "metadata": {},
     "output_type": "execute_result"
    }
   ],
   "source": [
    "combined_df = pd.concat([df1['ID'], df2['LABEL']], axis=1)\n",
    "combined_df.dtypes"
   ]
  },
  {
   "cell_type": "code",
   "execution_count": 58,
   "id": "5252082b",
   "metadata": {},
   "outputs": [],
   "source": [
    "combined_df.to_csv('test.csv',index=False)"
   ]
  },
  {
   "cell_type": "code",
   "execution_count": 59,
   "id": "3743f91c",
   "metadata": {},
   "outputs": [
    {
     "data": {
      "text/html": [
       "<div>\n",
       "<style scoped>\n",
       "    .dataframe tbody tr th:only-of-type {\n",
       "        vertical-align: middle;\n",
       "    }\n",
       "\n",
       "    .dataframe tbody tr th {\n",
       "        vertical-align: top;\n",
       "    }\n",
       "\n",
       "    .dataframe thead th {\n",
       "        text-align: right;\n",
       "    }\n",
       "</style>\n",
       "<table border=\"1\" class=\"dataframe\">\n",
       "  <thead>\n",
       "    <tr style=\"text-align: right;\">\n",
       "      <th></th>\n",
       "      <th>ID</th>\n",
       "      <th>LABEL</th>\n",
       "    </tr>\n",
       "  </thead>\n",
       "  <tbody>\n",
       "    <tr>\n",
       "      <th>0</th>\n",
       "      <td>4728459160322025755</td>\n",
       "      <td>1</td>\n",
       "    </tr>\n",
       "    <tr>\n",
       "      <th>1</th>\n",
       "      <td>1840432070229003467</td>\n",
       "      <td>1</td>\n",
       "    </tr>\n",
       "    <tr>\n",
       "      <th>2</th>\n",
       "      <td>12623336783082722606</td>\n",
       "      <td>2</td>\n",
       "    </tr>\n",
       "    <tr>\n",
       "      <th>3</th>\n",
       "      <td>7446733850828603409</td>\n",
       "      <td>0</td>\n",
       "    </tr>\n",
       "    <tr>\n",
       "      <th>4</th>\n",
       "      <td>16180660281866613068</td>\n",
       "      <td>2</td>\n",
       "    </tr>\n",
       "  </tbody>\n",
       "</table>\n",
       "</div>"
      ],
      "text/plain": [
       "                     ID  LABEL\n",
       "0   4728459160322025755      1\n",
       "1   1840432070229003467      1\n",
       "2  12623336783082722606      2\n",
       "3   7446733850828603409      0\n",
       "4  16180660281866613068      2"
      ]
     },
     "execution_count": 59,
     "metadata": {},
     "output_type": "execute_result"
    }
   ],
   "source": [
    "filename = 'test.csv'\n",
    "\n",
    "# Read the CSV file into a pandas DataFrame\n",
    "df = pd.read_csv(filename)\n",
    "\n",
    "# Display the first few rows of the DataFrame to verify the data\n",
    "df.head()\n",
    "# print(f\"Data types: \\n {df.dtypes}\")"
   ]
  },
  {
   "cell_type": "markdown",
   "id": "b032c536",
   "metadata": {},
   "source": [
    "## 6. Pickle"
   ]
  },
  {
   "cell_type": "code",
   "execution_count": 60,
   "id": "5ea4254a",
   "metadata": {},
   "outputs": [],
   "source": [
    "import cloudpickle"
   ]
  },
  {
   "cell_type": "code",
   "execution_count": 61,
   "id": "359580ea",
   "metadata": {},
   "outputs": [],
   "source": [
    "filename = 'LogReg_model.pkl'\n",
    "with open(filename, 'wb') as f:\n",
    "    cloudpickle.dump(clf, f)"
   ]
  },
  {
   "cell_type": "code",
   "execution_count": 62,
   "id": "c15e25a6",
   "metadata": {},
   "outputs": [],
   "source": [
    "loaded_model = None\n",
    "with open(filename, 'rb') as f:\n",
    "    loaded_model = cloudpickle.load(f)"
   ]
  },
  {
   "cell_type": "code",
   "execution_count": 63,
   "id": "8f1227f4",
   "metadata": {},
   "outputs": [],
   "source": [
    "filename = \"TfidfVectorizer.pkl\"\n",
    "with open(filename, 'wb') as f:\n",
    "    cloudpickle.dump(to_features, f)"
   ]
  },
  {
   "cell_type": "code",
   "execution_count": 64,
   "id": "120b622a",
   "metadata": {},
   "outputs": [],
   "source": [
    "loaded_vectorizer = None\n",
    "with open(filename, 'rb') as f:\n",
    "    loaded_vectorizer = cloudpickle.load(f)"
   ]
  },
  {
   "cell_type": "code",
   "execution_count": 65,
   "id": "2adb8ec2",
   "metadata": {},
   "outputs": [],
   "source": [
    "test_input = \"This movie sucks!\"\n",
    "result = loaded_vectorizer.transform([test_input])"
   ]
  },
  {
   "cell_type": "code",
   "execution_count": 66,
   "id": "9342a4b2",
   "metadata": {},
   "outputs": [
    {
     "data": {
      "text/plain": [
       "2"
      ]
     },
     "execution_count": 66,
     "metadata": {},
     "output_type": "execute_result"
    }
   ],
   "source": [
    "loaded_model.predict(result)[0]"
   ]
  },
  {
   "cell_type": "code",
   "execution_count": null,
   "id": "dfad9d95",
   "metadata": {},
   "outputs": [],
   "source": []
  }
 ],
 "metadata": {
  "kernelspec": {
   "display_name": "Python 3 (ipykernel)",
   "language": "python",
   "name": "python3"
  },
  "language_info": {
   "codemirror_mode": {
    "name": "ipython",
    "version": 3
   },
   "file_extension": ".py",
   "mimetype": "text/x-python",
   "name": "python",
   "nbconvert_exporter": "python",
   "pygments_lexer": "ipython3",
   "version": "3.11.5"
  }
 },
 "nbformat": 4,
 "nbformat_minor": 5
}
