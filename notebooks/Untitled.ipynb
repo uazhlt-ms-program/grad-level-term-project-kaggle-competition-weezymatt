{
 "cells": [
  {
   "cell_type": "code",
   "execution_count": 2,
   "id": "b99c6a6f",
   "metadata": {},
   "outputs": [],
   "source": [
    "import pandas as pd"
   ]
  },
  {
   "cell_type": "code",
   "execution_count": null,
   "id": "86c4d57b",
   "metadata": {},
   "outputs": [],
   "source": []
  },
  {
   "cell_type": "code",
   "execution_count": 3,
   "id": "d028186c",
   "metadata": {},
   "outputs": [
    {
     "name": "stdout",
     "output_type": "stream",
     "text": [
      "2.1.2\n"
     ]
    }
   ],
   "source": [
    "print(pd.__version__)"
   ]
  },
  {
   "cell_type": "code",
   "execution_count": 5,
   "id": "20154861",
   "metadata": {},
   "outputs": [],
   "source": [
    "file_path = \"../data/train.csv\""
   ]
  },
  {
   "cell_type": "code",
   "execution_count": 7,
   "id": "e6c80222",
   "metadata": {},
   "outputs": [],
   "source": [
    "\n",
    "df = pd.read_csv(file_path)"
   ]
  },
  {
   "cell_type": "code",
   "execution_count": 8,
   "id": "81a95fab",
   "metadata": {},
   "outputs": [
    {
     "data": {
      "text/html": [
       "<div>\n",
       "<style scoped>\n",
       "    .dataframe tbody tr th:only-of-type {\n",
       "        vertical-align: middle;\n",
       "    }\n",
       "\n",
       "    .dataframe tbody tr th {\n",
       "        vertical-align: top;\n",
       "    }\n",
       "\n",
       "    .dataframe thead th {\n",
       "        text-align: right;\n",
       "    }\n",
       "</style>\n",
       "<table border=\"1\" class=\"dataframe\">\n",
       "  <thead>\n",
       "    <tr style=\"text-align: right;\">\n",
       "      <th></th>\n",
       "      <th>ID</th>\n",
       "      <th>TEXT</th>\n",
       "      <th>LABEL</th>\n",
       "    </tr>\n",
       "  </thead>\n",
       "  <tbody>\n",
       "    <tr>\n",
       "      <th>0</th>\n",
       "      <td>7850790573542594519</td>\n",
       "      <td>If you love good films don't ever buy this pei...</td>\n",
       "      <td>2</td>\n",
       "    </tr>\n",
       "    <tr>\n",
       "      <th>1</th>\n",
       "      <td>9392069522632994700</td>\n",
       "      <td>The 33 percent of the nations nitwits that sti...</td>\n",
       "      <td>2</td>\n",
       "    </tr>\n",
       "    <tr>\n",
       "      <th>2</th>\n",
       "      <td>5083704536542443514</td>\n",
       "      <td>I saw Anatomy years ago -- dubbed at a friends...</td>\n",
       "      <td>1</td>\n",
       "    </tr>\n",
       "    <tr>\n",
       "      <th>3</th>\n",
       "      <td>12418349755186772171</td>\n",
       "      <td>Dark Remains is a home run plain and simple. T...</td>\n",
       "      <td>1</td>\n",
       "    </tr>\n",
       "    <tr>\n",
       "      <th>4</th>\n",
       "      <td>12144957944004619479</td>\n",
       "      <td>Feh. This movie started out in an interesting ...</td>\n",
       "      <td>2</td>\n",
       "    </tr>\n",
       "    <tr>\n",
       "      <th>...</th>\n",
       "      <td>...</td>\n",
       "      <td>...</td>\n",
       "      <td>...</td>\n",
       "    </tr>\n",
       "    <tr>\n",
       "      <th>70312</th>\n",
       "      <td>4533411613007495120</td>\n",
       "      <td>I grew up looking for fairies in my backyard, ...</td>\n",
       "      <td>0</td>\n",
       "    </tr>\n",
       "    <tr>\n",
       "      <th>70313</th>\n",
       "      <td>2075555016956547354</td>\n",
       "      <td>Jeff King,a guy I know from work,LOVES this Mo...</td>\n",
       "      <td>2</td>\n",
       "    </tr>\n",
       "    <tr>\n",
       "      <th>70314</th>\n",
       "      <td>5446360756235190232</td>\n",
       "      <td>I love the way Inder writes this story. Honest...</td>\n",
       "      <td>0</td>\n",
       "    </tr>\n",
       "    <tr>\n",
       "      <th>70315</th>\n",
       "      <td>11502529898454172361</td>\n",
       "      <td>I watched this movie recently and fell in love...</td>\n",
       "      <td>1</td>\n",
       "    </tr>\n",
       "    <tr>\n",
       "      <th>70316</th>\n",
       "      <td>11352924827579021872</td>\n",
       "      <td>491. Из 9 фунтов муки испечено 16 белых хлебов...</td>\n",
       "      <td>0</td>\n",
       "    </tr>\n",
       "  </tbody>\n",
       "</table>\n",
       "<p>70317 rows × 3 columns</p>\n",
       "</div>"
      ],
      "text/plain": [
       "                         ID  \\\n",
       "0       7850790573542594519   \n",
       "1       9392069522632994700   \n",
       "2       5083704536542443514   \n",
       "3      12418349755186772171   \n",
       "4      12144957944004619479   \n",
       "...                     ...   \n",
       "70312   4533411613007495120   \n",
       "70313   2075555016956547354   \n",
       "70314   5446360756235190232   \n",
       "70315  11502529898454172361   \n",
       "70316  11352924827579021872   \n",
       "\n",
       "                                                    TEXT  LABEL  \n",
       "0      If you love good films don't ever buy this pei...      2  \n",
       "1      The 33 percent of the nations nitwits that sti...      2  \n",
       "2      I saw Anatomy years ago -- dubbed at a friends...      1  \n",
       "3      Dark Remains is a home run plain and simple. T...      1  \n",
       "4      Feh. This movie started out in an interesting ...      2  \n",
       "...                                                  ...    ...  \n",
       "70312  I grew up looking for fairies in my backyard, ...      0  \n",
       "70313  Jeff King,a guy I know from work,LOVES this Mo...      2  \n",
       "70314  I love the way Inder writes this story. Honest...      0  \n",
       "70315  I watched this movie recently and fell in love...      1  \n",
       "70316  491. Из 9 фунтов муки испечено 16 белых хлебов...      0  \n",
       "\n",
       "[70317 rows x 3 columns]"
      ]
     },
     "execution_count": 8,
     "metadata": {},
     "output_type": "execute_result"
    }
   ],
   "source": [
    "df"
   ]
  },
  {
   "cell_type": "code",
   "execution_count": null,
   "id": "fe0feed0",
   "metadata": {},
   "outputs": [],
   "source": []
  }
 ],
 "metadata": {
  "kernelspec": {
   "display_name": "Python 3 (ipykernel)",
   "language": "python",
   "name": "python3"
  },
  "language_info": {
   "codemirror_mode": {
    "name": "ipython",
    "version": 3
   },
   "file_extension": ".py",
   "mimetype": "text/x-python",
   "name": "python",
   "nbconvert_exporter": "python",
   "pygments_lexer": "ipython3",
   "version": "3.11.5"
  }
 },
 "nbformat": 4,
 "nbformat_minor": 5
}
