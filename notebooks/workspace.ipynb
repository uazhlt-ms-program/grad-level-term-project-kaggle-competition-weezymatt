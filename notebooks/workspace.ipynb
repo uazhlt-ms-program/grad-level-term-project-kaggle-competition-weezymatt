{
 "cells": [
  {
   "cell_type": "code",
   "execution_count": 1,
   "id": "9dfcafb9",
   "metadata": {},
   "outputs": [],
   "source": [
    "NAME = \"Matthew A. Hernandez\"\n",
    "# University of Arizona email address\n",
    "EMAIL = \"mah8@arizona.edu\"\n",
    "# Names of any collaborators.  Write N/A if none.\n",
    "COLLABORATORS = \"N/A\""
   ]
  },
  {
   "cell_type": "markdown",
   "id": "664e976e",
   "metadata": {},
   "source": [
    "## Class Competition\n",
    "Description, Evaluation, and Data Set taken from the [class competition site](https://www.kaggle.com/competitions/ling-539-sp-2024-class-competition) and [GitHub blog](https://uazhlt-ms-program.github.io/ling-539-course-blog/assignments/class-competition)."
   ]
  },
  {
   "cell_type": "markdown",
   "id": "cc5d19cc",
   "metadata": {},
   "source": [
    "## Description\n",
    "Marvin works at the last Blockbusta Videoz (a fictional video rental shop) where his task is to classify movie and TV show reviews to help curate a special section of the store.\n",
    "\n",
    "One day while perusing his favorite website, Marvin came upon a post about someone who secretly automated their job and then quietly took off on a long (paid) vacation. Inspired, Marvin set aside a portion of his salary to hire a developer to write a few scripts to scrape movie reviews from various sources. It's a bit noisy, but aggregating many reviews has cut the time he previously spent on his job by half.\n",
    "\n",
    "Now, after reading an article about AI, Marvin wants to take things a step further: he is searching for a program that can determine a) whether or not a piece of text is a movie/TV show review and b) whether or not each review is positive (the movie/TV show is recommended) or negative (the movie/TV show should be avoided).\n",
    "\n",
    "Marvin has put together a competition and advertised it on Fraggle (a fictional platform for competitive data science)."
   ]
  },
  {
   "cell_type": "markdown",
   "id": "dace9465",
   "metadata": {},
   "source": [
    "## Evaluation\n",
    "\n",
    "The evaluation metric for this competition is the macro F1 score (i.e., the unweighted mean F1). The F1 score, commonly used in information retrieval, measures accuracy using the statistics precision *P* and recall *R*.\n",
    "\n",
    "Precision is the ratio of true positives *TP* to all the predicted positions *TP+FP*. Recall is the ratio of true positives *TP* to all the actual positives *TP+FN*. The F1 score is given by:\n",
    "\n",
    "\n",
    "$$\n",
    "F1 = 2\\frac{P*R}{P+R}, Precision = \\frac{TP}{TP+FP}, Recall = \\frac{TP}{TP+FN}\n",
    "$$\n",
    "\n",
    "\n",
    "The F1 metric weighs recall and precision equally. Moderately good performance on both will be favored over extremely good performance on one and poor performance on the other."
   ]
  },
  {
   "cell_type": "markdown",
   "id": "18e92741",
   "metadata": {},
   "source": [
    "## Data Set\n",
    "\n",
    "| **FILE NAME**         | **AVAILABLE FORMATS**       | \n",
    "|-----------------------|-----------------------------|\n",
    "|  train                | .csv (64.9 MB)              | \n",
    "|  test                 | .csv (15.9 MB)              |\n",
    "|  sample_submission    | .csv (?? kb)                |\n",
    "\n",
    "\n",
    "| **COLUMN** | **DESCRIPTION**                         | \n",
    "|------------|-----------------------------------------| \n",
    "|  ID        | Unique ID for this datapoint            |\n",
    "|  TEXT      | The text of the document                | \n",
    "|  LABEL     | The label for the datapoint (see below) |\n",
    "\n",
    "| **LABEL** | **DESCRIPTION**                       | \n",
    "|-----------|---------------------------------------|\n",
    "|  0        | Not a movie or TV show review         | \n",
    "|  1        | A positive movie or TV show review    |\n",
    "|  2        | A negative movie or TV show review    |"
   ]
  },
  {
   "cell_type": "markdown",
   "id": "f62c754e",
   "metadata": {},
   "source": [
    "## 1. Setup and Imports"
   ]
  },
  {
   "cell_type": "code",
   "execution_count": 96,
   "id": "fd8797ef",
   "metadata": {},
   "outputs": [],
   "source": [
    "# Utilities\n",
    "import pandas as pd\n",
    "import numpy as np\n",
    "import pickle\n",
    "import re\n",
    "\n",
    "# Plotting\n",
    "import matplotlib.pyplot as plt\n",
    "\n",
    "# ML/NLP libaries\n",
    "from nltk import word_tokenize, sent_tokenize\n",
    "from nltk import PorterStemmer\n",
    "from nltk.corpus import stopwords\n",
    "\n",
    "from bs4 import BeautifulSoup\n",
    "\n",
    "import spacy\n",
    "nlp = spacy.load('en_core_web_sm')\n",
    "\n",
    "from sklearn.feature_extraction.text import CountVectorizer, TfidfVectorizer\n",
    "from sklearn.linear_model import LogisticRegression\n",
    "from sklearn.model_selection import train_test_split\n",
    "from sklearn.metrics import f1_score, confusion_matrix, classification_report\n",
    "\n",
    "# Paths\n",
    "train_file_path = \"../data/train.csv\"\n",
    "test_file_path = \"../data/test.csv\""
   ]
  },
  {
   "cell_type": "markdown",
   "id": "fb1a1690",
   "metadata": {},
   "source": [
    "## 2. Explore the data"
   ]
  },
  {
   "cell_type": "code",
   "execution_count": 3,
   "id": "dcacc354",
   "metadata": {},
   "outputs": [
    {
     "data": {
      "text/html": [
       "<div>\n",
       "<style scoped>\n",
       "    .dataframe tbody tr th:only-of-type {\n",
       "        vertical-align: middle;\n",
       "    }\n",
       "\n",
       "    .dataframe tbody tr th {\n",
       "        vertical-align: top;\n",
       "    }\n",
       "\n",
       "    .dataframe thead th {\n",
       "        text-align: right;\n",
       "    }\n",
       "</style>\n",
       "<table border=\"1\" class=\"dataframe\">\n",
       "  <thead>\n",
       "    <tr style=\"text-align: right;\">\n",
       "      <th></th>\n",
       "      <th>ID</th>\n",
       "      <th>TEXT</th>\n",
       "      <th>LABEL</th>\n",
       "    </tr>\n",
       "  </thead>\n",
       "  <tbody>\n",
       "    <tr>\n",
       "      <th>0</th>\n",
       "      <td>7850790573542594519</td>\n",
       "      <td>If you love good films don't ever buy this pei...</td>\n",
       "      <td>2</td>\n",
       "    </tr>\n",
       "    <tr>\n",
       "      <th>1</th>\n",
       "      <td>9392069522632994700</td>\n",
       "      <td>The 33 percent of the nations nitwits that sti...</td>\n",
       "      <td>2</td>\n",
       "    </tr>\n",
       "    <tr>\n",
       "      <th>2</th>\n",
       "      <td>5083704536542443514</td>\n",
       "      <td>I saw Anatomy years ago -- dubbed at a friends...</td>\n",
       "      <td>1</td>\n",
       "    </tr>\n",
       "    <tr>\n",
       "      <th>3</th>\n",
       "      <td>12418349755186772171</td>\n",
       "      <td>Dark Remains is a home run plain and simple. T...</td>\n",
       "      <td>1</td>\n",
       "    </tr>\n",
       "    <tr>\n",
       "      <th>4</th>\n",
       "      <td>12144957944004619479</td>\n",
       "      <td>Feh. This movie started out in an interesting ...</td>\n",
       "      <td>2</td>\n",
       "    </tr>\n",
       "  </tbody>\n",
       "</table>\n",
       "</div>"
      ],
      "text/plain": [
       "                     ID                                               TEXT  \\\n",
       "0   7850790573542594519  If you love good films don't ever buy this pei...   \n",
       "1   9392069522632994700  The 33 percent of the nations nitwits that sti...   \n",
       "2   5083704536542443514  I saw Anatomy years ago -- dubbed at a friends...   \n",
       "3  12418349755186772171  Dark Remains is a home run plain and simple. T...   \n",
       "4  12144957944004619479  Feh. This movie started out in an interesting ...   \n",
       "\n",
       "   LABEL  \n",
       "0      2  \n",
       "1      2  \n",
       "2      1  \n",
       "3      1  \n",
       "4      2  "
      ]
     },
     "execution_count": 3,
     "metadata": {},
     "output_type": "execute_result"
    }
   ],
   "source": [
    "def read_reviews(reviews_path):\n",
    "    '''\n",
    "    Reads a CSV file and returns a dataframe.\n",
    "    \n",
    "    @param reviews_path:\n",
    "    @return: pd.DataFrame\n",
    "    '''\n",
    "    df = pd.read_csv(reviews_path)\n",
    "    return df\n",
    "\n",
    "df_train = read_reviews(train_file_path)\n",
    "df_test = read_reviews(test_file_path)\n",
    "df_train.head()"
   ]
  },
  {
   "cell_type": "code",
   "execution_count": 4,
   "id": "92badd0f",
   "metadata": {},
   "outputs": [
    {
     "name": "stdout",
     "output_type": "stream",
     "text": [
      "Dataframe shape: 70317\n",
      "Dataframe types: \n",
      "ID       uint64\n",
      "TEXT     object\n",
      "LABEL     int64\n",
      "dtype: object\n"
     ]
    }
   ],
   "source": [
    "print(f\"Dataframe shape: {df_train.shape[0]}\")\n",
    "print(f\"Dataframe types: \\n{df_train.dtypes}\")"
   ]
  },
  {
   "cell_type": "code",
   "execution_count": 5,
   "id": "45818a06",
   "metadata": {},
   "outputs": [
    {
     "data": {
      "text/plain": [
       "4728459160322025755"
      ]
     },
     "execution_count": 5,
     "metadata": {},
     "output_type": "execute_result"
    }
   ],
   "source": [
    "df_test['ID'][0]"
   ]
  },
  {
   "cell_type": "code",
   "execution_count": 6,
   "id": "1c17aa2a",
   "metadata": {},
   "outputs": [
    {
     "name": "stdout",
     "output_type": "stream",
     "text": [
      "<class 'pandas.core.frame.DataFrame'>\n",
      "RangeIndex: 70317 entries, 0 to 70316\n",
      "Data columns (total 3 columns):\n",
      " #   Column  Non-Null Count  Dtype \n",
      "---  ------  --------------  ----- \n",
      " 0   ID      70317 non-null  uint64\n",
      " 1   TEXT    70311 non-null  object\n",
      " 2   LABEL   70317 non-null  int64 \n",
      "dtypes: int64(1), object(1), uint64(1)\n",
      "memory usage: 1.6+ MB\n"
     ]
    }
   ],
   "source": [
    "df_train.info()"
   ]
  },
  {
   "cell_type": "markdown",
   "id": "cf70cb17",
   "metadata": {},
   "source": [
    "Text column is missing 6 values. The shape of the dataframe is 70317. The data set is relatively clean, so no additional preprocessing is needed."
   ]
  },
  {
   "cell_type": "code",
   "execution_count": 7,
   "id": "e39599c0",
   "metadata": {},
   "outputs": [],
   "source": [
    "df_train['TEXT'].fillna(value='Unknown', inplace=True)"
   ]
  },
  {
   "cell_type": "markdown",
   "id": "d5461083",
   "metadata": {},
   "source": [
    "**Drop missing values.** Other option would be to replace the Text columns with an 'Unknown' value."
   ]
  },
  {
   "cell_type": "code",
   "execution_count": 8,
   "id": "2de43abf",
   "metadata": {},
   "outputs": [
    {
     "name": "stdout",
     "output_type": "stream",
     "text": [
      "<class 'pandas.core.frame.DataFrame'>\n",
      "RangeIndex: 70317 entries, 0 to 70316\n",
      "Data columns (total 3 columns):\n",
      " #   Column  Non-Null Count  Dtype \n",
      "---  ------  --------------  ----- \n",
      " 0   ID      70317 non-null  uint64\n",
      " 1   TEXT    70317 non-null  object\n",
      " 2   LABEL   70317 non-null  int64 \n",
      "dtypes: int64(1), object(1), uint64(1)\n",
      "memory usage: 1.6+ MB\n"
     ]
    }
   ],
   "source": [
    "# verify the changes were made\n",
    "df_train.info()"
   ]
  },
  {
   "cell_type": "code",
   "execution_count": 9,
   "id": "fe0feed0",
   "metadata": {},
   "outputs": [
    {
     "data": {
      "text/html": [
       "<div>\n",
       "<style scoped>\n",
       "    .dataframe tbody tr th:only-of-type {\n",
       "        vertical-align: middle;\n",
       "    }\n",
       "\n",
       "    .dataframe tbody tr th {\n",
       "        vertical-align: top;\n",
       "    }\n",
       "\n",
       "    .dataframe thead th {\n",
       "        text-align: right;\n",
       "    }\n",
       "</style>\n",
       "<table border=\"1\" class=\"dataframe\">\n",
       "  <thead>\n",
       "    <tr style=\"text-align: right;\">\n",
       "      <th></th>\n",
       "      <th>ID</th>\n",
       "      <th>LABEL</th>\n",
       "    </tr>\n",
       "  </thead>\n",
       "  <tbody>\n",
       "    <tr>\n",
       "      <th>count</th>\n",
       "      <td>7.031700e+04</td>\n",
       "      <td>70317.000000</td>\n",
       "    </tr>\n",
       "    <tr>\n",
       "      <th>mean</th>\n",
       "      <td>9.237206e+18</td>\n",
       "      <td>0.813687</td>\n",
       "    </tr>\n",
       "    <tr>\n",
       "      <th>std</th>\n",
       "      <td>5.341639e+18</td>\n",
       "      <td>0.831365</td>\n",
       "    </tr>\n",
       "    <tr>\n",
       "      <th>min</th>\n",
       "      <td>5.764730e+14</td>\n",
       "      <td>0.000000</td>\n",
       "    </tr>\n",
       "    <tr>\n",
       "      <th>25%</th>\n",
       "      <td>4.592511e+18</td>\n",
       "      <td>0.000000</td>\n",
       "    </tr>\n",
       "    <tr>\n",
       "      <th>50%</th>\n",
       "      <td>9.273194e+18</td>\n",
       "      <td>1.000000</td>\n",
       "    </tr>\n",
       "    <tr>\n",
       "      <th>75%</th>\n",
       "      <td>1.387591e+19</td>\n",
       "      <td>2.000000</td>\n",
       "    </tr>\n",
       "    <tr>\n",
       "      <th>max</th>\n",
       "      <td>1.844662e+19</td>\n",
       "      <td>2.000000</td>\n",
       "    </tr>\n",
       "  </tbody>\n",
       "</table>\n",
       "</div>"
      ],
      "text/plain": [
       "                 ID         LABEL\n",
       "count  7.031700e+04  70317.000000\n",
       "mean   9.237206e+18      0.813687\n",
       "std    5.341639e+18      0.831365\n",
       "min    5.764730e+14      0.000000\n",
       "25%    4.592511e+18      0.000000\n",
       "50%    9.273194e+18      1.000000\n",
       "75%    1.387591e+19      2.000000\n",
       "max    1.844662e+19      2.000000"
      ]
     },
     "execution_count": 9,
     "metadata": {},
     "output_type": "execute_result"
    }
   ],
   "source": [
    "df_train.describe()"
   ]
  },
  {
   "cell_type": "code",
   "execution_count": 10,
   "id": "c905f6d9",
   "metadata": {},
   "outputs": [
    {
     "data": {
      "text/html": [
       "<div>\n",
       "<style scoped>\n",
       "    .dataframe tbody tr th:only-of-type {\n",
       "        vertical-align: middle;\n",
       "    }\n",
       "\n",
       "    .dataframe tbody tr th {\n",
       "        vertical-align: top;\n",
       "    }\n",
       "\n",
       "    .dataframe thead th {\n",
       "        text-align: right;\n",
       "    }\n",
       "</style>\n",
       "<table border=\"1\" class=\"dataframe\">\n",
       "  <thead>\n",
       "    <tr style=\"text-align: right;\">\n",
       "      <th></th>\n",
       "      <th>ID</th>\n",
       "      <th>TEXT</th>\n",
       "    </tr>\n",
       "  </thead>\n",
       "  <tbody>\n",
       "    <tr>\n",
       "      <th>0</th>\n",
       "      <td>4728459160322025755</td>\n",
       "      <td>An excellent debut movie for the the director ...</td>\n",
       "    </tr>\n",
       "    <tr>\n",
       "      <th>1</th>\n",
       "      <td>1840432070229003467</td>\n",
       "      <td>If you have a preschooler or remember how stre...</td>\n",
       "    </tr>\n",
       "    <tr>\n",
       "      <th>2</th>\n",
       "      <td>12623336783082722606</td>\n",
       "      <td>What should have been a routine babysitting gi...</td>\n",
       "    </tr>\n",
       "    <tr>\n",
       "      <th>3</th>\n",
       "      <td>7446733850828603409</td>\n",
       "      <td>Cute but</td>\n",
       "    </tr>\n",
       "    <tr>\n",
       "      <th>4</th>\n",
       "      <td>16180660281866613068</td>\n",
       "      <td>Elvis Presley plays a \"half-breed\" Native Amer...</td>\n",
       "    </tr>\n",
       "  </tbody>\n",
       "</table>\n",
       "</div>"
      ],
      "text/plain": [
       "                     ID                                               TEXT\n",
       "0   4728459160322025755  An excellent debut movie for the the director ...\n",
       "1   1840432070229003467  If you have a preschooler or remember how stre...\n",
       "2  12623336783082722606  What should have been a routine babysitting gi...\n",
       "3   7446733850828603409                                           Cute but\n",
       "4  16180660281866613068  Elvis Presley plays a \"half-breed\" Native Amer..."
      ]
     },
     "execution_count": 10,
     "metadata": {},
     "output_type": "execute_result"
    }
   ],
   "source": [
    "df_test.head()"
   ]
  },
  {
   "cell_type": "code",
   "execution_count": 11,
   "id": "6dafcdba",
   "metadata": {},
   "outputs": [
    {
     "name": "stdout",
     "output_type": "stream",
     "text": [
      "Dataframe shape: 17580\n",
      "Dataframe types: \n",
      "ID      uint64\n",
      "TEXT    object\n",
      "dtype: object\n"
     ]
    }
   ],
   "source": [
    "print(f\"Dataframe shape: {df_test.shape[0]}\")\n",
    "print(f\"Dataframe types: \\n{df_test.dtypes}\")"
   ]
  },
  {
   "cell_type": "code",
   "execution_count": 12,
   "id": "17920404",
   "metadata": {},
   "outputs": [
    {
     "name": "stdout",
     "output_type": "stream",
     "text": [
      "<class 'pandas.core.frame.DataFrame'>\n",
      "RangeIndex: 17580 entries, 0 to 17579\n",
      "Data columns (total 2 columns):\n",
      " #   Column  Non-Null Count  Dtype \n",
      "---  ------  --------------  ----- \n",
      " 0   ID      17580 non-null  uint64\n",
      " 1   TEXT    17579 non-null  object\n",
      "dtypes: object(1), uint64(1)\n",
      "memory usage: 274.8+ KB\n"
     ]
    }
   ],
   "source": [
    "df_test.info()"
   ]
  },
  {
   "cell_type": "code",
   "execution_count": 13,
   "id": "1107695c",
   "metadata": {},
   "outputs": [],
   "source": [
    "df_test['TEXT'].fillna(value='Unknown', inplace=True)"
   ]
  },
  {
   "cell_type": "code",
   "execution_count": 14,
   "id": "c958c6d1",
   "metadata": {},
   "outputs": [
    {
     "name": "stdout",
     "output_type": "stream",
     "text": [
      "<class 'pandas.core.frame.DataFrame'>\n",
      "RangeIndex: 17580 entries, 0 to 17579\n",
      "Data columns (total 2 columns):\n",
      " #   Column  Non-Null Count  Dtype \n",
      "---  ------  --------------  ----- \n",
      " 0   ID      17580 non-null  uint64\n",
      " 1   TEXT    17580 non-null  object\n",
      "dtypes: object(1), uint64(1)\n",
      "memory usage: 274.8+ KB\n"
     ]
    }
   ],
   "source": [
    "df_test.info()"
   ]
  },
  {
   "cell_type": "markdown",
   "id": "016bb174",
   "metadata": {},
   "source": [
    "### 2.1 Let's take a look at our data distribution:"
   ]
  },
  {
   "cell_type": "code",
   "execution_count": 15,
   "id": "7c0f66b4",
   "metadata": {},
   "outputs": [
    {
     "data": {
      "image/png": "[encoded data removed]",
      "text/plain": [
       "<Figure size 6500x1500 with 2 Axes>"
      ]
     },
     "metadata": {},
     "output_type": "display_data"
    },
    {
     "name": "stdout",
     "output_type": "stream",
     "text": [
      "LABEL\n",
      "0    32071\n",
      "1    19276\n",
      "2    18970\n",
      "Name: count, dtype: int64\n"
     ]
    }
   ],
   "source": [
    "# Define figure and subplots\n",
    "labels = [\"¬Reviews (0)\",\"Positive (1)\", \"Negative (2)\"]\n",
    "fig, (ax1, ax2) = plt.subplots(1, 2, figsize=(13, 3), dpi=500)\n",
    "colors = ['tab:blue', 'tab:orange', 'tab:green']\n",
    "\n",
    "# Plotting the bar chart for label distribution\n",
    "label_counts = df_train['LABEL'].value_counts()\n",
    "ax1.barh(label_counts.index, label_counts, alpha=1.0,color=colors)\n",
    "ax1.set_xlabel('Count')\n",
    "ax1.set_title('Label Distribution (Bar Chart)')\n",
    "ax1.grid(True, linestyle='dotted')\n",
    "ax1.set_yticks(np.arange(len(label_counts)))\n",
    "\n",
    "# Plotting the pie chart for label distribution\n",
    "\n",
    "ax2.pie(label_counts, autopct='%1.1f%%', pctdistance=0.50,startangle=140,colors=colors)\n",
    "ax2.set_title('Label Distribution (Pie Chart)')\n",
    "ax2.axis('equal')  # Equal aspect ratio ensures that pie is drawn as a circle\n",
    "ax2.legend(labels,\n",
    "          title='Labels',\n",
    "          loc='upper left')\n",
    "\n",
    "plt.tight_layout()  # Adjust layout to prevent overlapping\n",
    "plt.show()\n",
    "print(df_train['LABEL'].value_counts())"
   ]
  },
  {
   "cell_type": "markdown",
   "id": "e76106f1",
   "metadata": {},
   "source": [
    "**Notes:** Consider *resampling techniques* to handle the skewed data."
   ]
  },
  {
   "cell_type": "markdown",
   "id": "227d9d2d",
   "metadata": {},
   "source": [
    "### 2.2 Let's take a deeper look:"
   ]
  },
  {
   "cell_type": "code",
   "execution_count": 16,
   "id": "cfd28ac7",
   "metadata": {},
   "outputs": [],
   "source": [
    "# Consider the word count of each review \n",
    "df_train['WORD_COUNT'] = df_train['TEXT'].apply(word_tokenize)\n",
    "df_train['WORD_COUNT'] = df_train['WORD_COUNT'].apply(len)"
   ]
  },
  {
   "cell_type": "code",
   "execution_count": 17,
   "id": "407bac7a",
   "metadata": {},
   "outputs": [
    {
     "data": {
      "text/html": [
       "<div>\n",
       "<style scoped>\n",
       "    .dataframe tbody tr th:only-of-type {\n",
       "        vertical-align: middle;\n",
       "    }\n",
       "\n",
       "    .dataframe tbody tr th {\n",
       "        vertical-align: top;\n",
       "    }\n",
       "\n",
       "    .dataframe thead th {\n",
       "        text-align: right;\n",
       "    }\n",
       "</style>\n",
       "<table border=\"1\" class=\"dataframe\">\n",
       "  <thead>\n",
       "    <tr style=\"text-align: right;\">\n",
       "      <th></th>\n",
       "      <th>ID</th>\n",
       "      <th>TEXT</th>\n",
       "      <th>LABEL</th>\n",
       "      <th>WORD_COUNT</th>\n",
       "    </tr>\n",
       "  </thead>\n",
       "  <tbody>\n",
       "    <tr>\n",
       "      <th>0</th>\n",
       "      <td>7850790573542594519</td>\n",
       "      <td>If you love good films don't ever buy this pei...</td>\n",
       "      <td>2</td>\n",
       "      <td>14</td>\n",
       "    </tr>\n",
       "    <tr>\n",
       "      <th>1</th>\n",
       "      <td>9392069522632994700</td>\n",
       "      <td>The 33 percent of the nations nitwits that sti...</td>\n",
       "      <td>2</td>\n",
       "      <td>233</td>\n",
       "    </tr>\n",
       "    <tr>\n",
       "      <th>2</th>\n",
       "      <td>5083704536542443514</td>\n",
       "      <td>I saw Anatomy years ago -- dubbed at a friends...</td>\n",
       "      <td>1</td>\n",
       "      <td>146</td>\n",
       "    </tr>\n",
       "    <tr>\n",
       "      <th>3</th>\n",
       "      <td>12418349755186772171</td>\n",
       "      <td>Dark Remains is a home run plain and simple. T...</td>\n",
       "      <td>1</td>\n",
       "      <td>152</td>\n",
       "    </tr>\n",
       "    <tr>\n",
       "      <th>4</th>\n",
       "      <td>12144957944004619479</td>\n",
       "      <td>Feh. This movie started out in an interesting ...</td>\n",
       "      <td>2</td>\n",
       "      <td>409</td>\n",
       "    </tr>\n",
       "  </tbody>\n",
       "</table>\n",
       "</div>"
      ],
      "text/plain": [
       "                     ID                                               TEXT  \\\n",
       "0   7850790573542594519  If you love good films don't ever buy this pei...   \n",
       "1   9392069522632994700  The 33 percent of the nations nitwits that sti...   \n",
       "2   5083704536542443514  I saw Anatomy years ago -- dubbed at a friends...   \n",
       "3  12418349755186772171  Dark Remains is a home run plain and simple. T...   \n",
       "4  12144957944004619479  Feh. This movie started out in an interesting ...   \n",
       "\n",
       "   LABEL  WORD_COUNT  \n",
       "0      2          14  \n",
       "1      2         233  \n",
       "2      1         146  \n",
       "3      1         152  \n",
       "4      2         409  "
      ]
     },
     "execution_count": 17,
     "metadata": {},
     "output_type": "execute_result"
    }
   ],
   "source": [
    "df_train.head()"
   ]
  },
  {
   "cell_type": "code",
   "execution_count": 18,
   "id": "c3ae4c3a",
   "metadata": {},
   "outputs": [
    {
     "data": {
      "text/plain": [
       "6839"
      ]
     },
     "execution_count": 18,
     "metadata": {},
     "output_type": "execute_result"
    }
   ],
   "source": [
    "df_train['WORD_COUNT'].max()"
   ]
  },
  {
   "cell_type": "markdown",
   "id": "0b4ade89",
   "metadata": {},
   "source": [
    "**Notes:** Remember to handle HTML tags &#x2713; , character escape sequences &#x2713;, en dashes &#x2713;, large proportion of non reviews, accents, epsilon, consider not case folding, emoticons, difference languages, etc..."
   ]
  },
  {
   "cell_type": "markdown",
   "id": "8694f357",
   "metadata": {},
   "source": [
    "## 3. Preprocessing Data\n",
    "- Convert text to numerical features for your machine learning model"
   ]
  },
  {
   "cell_type": "markdown",
   "id": "55150166",
   "metadata": {},
   "source": [
    "### Word2Vec Preprocessing"
   ]
  },
  {
   "cell_type": "code",
   "execution_count": 365,
   "id": "b6a19e3c",
   "metadata": {},
   "outputs": [],
   "source": [
    "# words will need this for the Word2Vec model\n",
    "def vocabulary(review, remove_stopwords=False, stemmer=False):\n",
    "    clean_review = BeautifulSoup(review).get_text() # removes html tags\n",
    "    clean_review = re.sub(r'[^a-zA-Z]', ' ', clean_review)\n",
    "    clean_review = re.sub(r'\\.{2,}', ' ellipsis ', clean_review)\n",
    "    clean_review = re.sub(r'!!+', 'exclaim', clean_review)\n",
    "    vocab = clean_review.lower().split()\n",
    "    \n",
    "    # optionally add stemmer\n",
    "    \n",
    "    return (vocab)"
   ]
  },
  {
   "cell_type": "code",
   "execution_count": 367,
   "id": "2a1d6642",
   "metadata": {},
   "outputs": [
    {
     "name": "stdout",
     "output_type": "stream",
     "text": [
      "Adding sentences from the training data...\n"
     ]
    },
    {
     "name": "stderr",
     "output_type": "stream",
     "text": [
      "/var/folders/xx/l7vsjhy55856z9s9d1l4__580000gn/T/ipykernel_12128/421762148.py:3: MarkupResemblesLocatorWarning: The input looks more like a filename than markup. You may want to open this file and pass the filehandle into Beautiful Soup.\n",
      "  clean_review = BeautifulSoup(review).get_text() # removes html tags\n",
      "/var/folders/xx/l7vsjhy55856z9s9d1l4__580000gn/T/ipykernel_12128/421762148.py:3: MarkupResemblesLocatorWarning: The input looks more like a URL than markup. You may want to use an HTTP client like requests to get the document behind the URL, and feed that document to Beautiful Soup.\n",
      "  clean_review = BeautifulSoup(review).get_text() # removes html tags\n"
     ]
    }
   ],
   "source": [
    "global_sentences = []\n",
    "print(\"Adding sentences from the training data...\")\n",
    "for review in training_texts:\n",
    "    global_sentences += review_2_sents(review, sent_tokenize)"
   ]
  },
  {
   "cell_type": "code",
   "execution_count": 366,
   "id": "e03bcffa",
   "metadata": {},
   "outputs": [],
   "source": [
    "# Word2Vec implementation requires sentences\n",
    "def review_2_sents(review, tokenizer):\n",
    "    temp_sents = tokenizer(review)\n",
    "    sentences = []\n",
    "    for temp_sent in temp_sents:\n",
    "        sentences.append(vocabulary(temp_sent))\n",
    "    return sentences"
   ]
  },
  {
   "cell_type": "markdown",
   "id": "1858153c",
   "metadata": {},
   "source": [
    "### Playground"
   ]
  },
  {
   "cell_type": "code",
   "execution_count": null,
   "id": "d83c270f",
   "metadata": {},
   "outputs": [],
   "source": [
    "# t2f = TextToFeatures()\n",
    "# t2f.preprocess_text(training_texts[10014])"
   ]
  },
  {
   "cell_type": "code",
   "execution_count": 260,
   "id": "d4934760",
   "metadata": {},
   "outputs": [
    {
     "data": {
      "text/plain": [
       "\"This is unlike other Kurasawa films and therefore less known in the west.  In his other films, Kurasawa uses camera angles, settings , motion and music to grab the viewer and immerse him into the movie.  In &quot;Tiger's Tail &quot; there is very little camera work or settings-In fact, I remember only three:the forest,The checkpoint and The Road.  This movie instead draws all its power and intensity by using Kabuki styled acting and motion. <p> The story is about a prince who is being hunted by his bitrailling brother.  To escape, he relize on the help of a handful of loyal samurai as they covertley try to pass a main check point even though all enemy warriors are on high alert. This is why the movie is also called &quot;They who step on tiger's Tail.<p> I loved the acting of the lead General who is disguessed as a Yamabushi(Priest Samurai).  If you wanted to see Kabuki or understand one of the elements that set Kurasawa's style apart from other Directors, then see this movie.  I'm buying the DVD as soon as Amozon.com gets it.\""
      ]
     },
     "execution_count": 260,
     "metadata": {},
     "output_type": "execute_result"
    }
   ],
   "source": [
    "training_texts[10016]"
   ]
  },
  {
   "cell_type": "code",
   "execution_count": 257,
   "id": "e7cea10b",
   "metadata": {},
   "outputs": [
    {
     "data": {
      "text/plain": [
       "'Buy this set for the game not the movie. it s like buying a game a getting a bad movie as bonus content *HAPPY EMOTICON'"
      ]
     },
     "execution_count": 257,
     "metadata": {},
     "output_type": "execute_result"
    }
   ],
   "source": [
    "# preprocess_text(training_texts[10014])"
   ]
  },
  {
   "cell_type": "markdown",
   "id": "15601922",
   "metadata": {},
   "source": [
    "### Regular Preprocessing"
   ]
  },
  {
   "cell_type": "code",
   "execution_count": 158,
   "id": "2f03ee22",
   "metadata": {},
   "outputs": [],
   "source": [
    "class TextToFeatures():\n",
    "    def __init__(self):\n",
    "        '''\n",
    "        Initializes an object for converting texts to features\n",
    "        '''\n",
    "        self.vectorizer = CountVectorizer(lowercase=False, preprocessor=self.preprocess_text, tokenizer=self.nltk_tokenizer,\\\n",
    "                                         token_pattern=None, ngram_range=(1,3), binary=False)\n",
    "#         self.vectorizer = TfidfVectorizer(lowercase=False, preprocessor=self.preprocess_text, tokenizer=word_tokenize,\\\n",
    "#                                          token_pattern=None, ngram_range=(1,3), binary=False)\n",
    "        self.stemmer = PorterStemmer()\n",
    "#         self.stopwords = set(stopwords.words('English'))\n",
    "    \n",
    "    def spacy_tokenizer(self, document):\n",
    "        return [word.text for word in nlp(document)]\n",
    "        \n",
    "    def nltk_tokenizer(self, document):\n",
    "        return word_tokenize(document)\n",
    "        \n",
    "    def preprocess_text(self, document):\n",
    "        '''\n",
    "        Use RegEx to preprocess text.\n",
    "        \n",
    "        @param document: text reviews\n",
    "        @return: processed text\n",
    "        '''  \n",
    "        clean_review = document\n",
    "        clean_review = BeautifulSoup(clean_review).get_text()\n",
    "#         clean_review = re.sub(r'<br /><br />?', ' ', clean_review)\n",
    "        clean_review = re.sub(r'\\x86', '-', clean_review)\n",
    "        clean_review = re.sub(r'\\x96', '<UNKNOWN> ', clean_review)\n",
    "        clean_review = re.sub(r'\\n+', ' ', clean_review)\n",
    "        clean_review = re.sub(r\"\\'\", \" \", clean_review)\n",
    "        clean_review = re.sub(r'\\.{2,}', ' <ELLIPSIS> ', clean_review)\n",
    "        clean_review = re.sub(r'!!+', ' <EXCLAIM>', clean_review)\n",
    "        clean_review = re.sub(r':-D', '<HAPPY EMOTICON>', clean_review)\n",
    "        clean_review = re.sub(r':-D', ' <HAPPY EMOTICON>', clean_review)\n",
    "        clean_review =re.sub(r'HIGHLY RECOMMENDED.', '<HIGHLY RECOMMENDED>', clean_review)\n",
    "        \n",
    "\n",
    "#         clean_review = re.sub(r'\"\"') double quotes\n",
    "        ## hasMeh: bool hasWorth\n",
    "        \n",
    "        tokenized_review = clean_review.split()\n",
    "        stemmed_review = [self.stemmer.stem(w) for w in tokenized_review]\n",
    "        processed_review = ' '.join(stemmed_review)\n",
    "        return processed_review\n",
    "\n",
    "#         return clean_review\n",
    "           \n",
    "    def fit(self, training_texts):\n",
    "        '''\n",
    "        Fits (\"trains\") a TextToFeature instance on a collection of documents.\n",
    "        \n",
    "        The provided training texts are analyzed to determine the vocabulary, \n",
    "        i.e., all feature values that the converter will support. \n",
    "        Each such feature value will be associated with a unique integer index \n",
    "        that may later be accessed via the .index() method.\n",
    "        '''\n",
    "        self.vectorizer.fit(training_texts)\n",
    "        \n",
    "    def index(self, feature):\n",
    "        '''\n",
    "        Returns the index in the vocabulary of the given feature value.  \n",
    "        If the features isn't present, return None.\n",
    "\n",
    "        @param feature: feature\n",
    "        @return: unique integer index associated with the feature or None if not present.\n",
    "        '''\n",
    "        terms = self.vectorizer.vocabulary_\n",
    "        index = terms.get(feature, None)\n",
    "        return index\n",
    "        \n",
    "    def transform(self, texts):\n",
    "        '''\n",
    "        Creates a feature matrix from a sequence of texts.\n",
    "        \n",
    "        @param :\n",
    "        @return : \n",
    "        '''\n",
    "        features = self.vectorizer.transform(texts)\n",
    "        #can insert additional info about length\n",
    "        return features "
   ]
  },
  {
   "cell_type": "code",
   "execution_count": 159,
   "id": "15002ac4",
   "metadata": {},
   "outputs": [
    {
     "name": "stdout",
     "output_type": "stream",
     "text": [
      "Length of training texts: 70317\n"
     ]
    }
   ],
   "source": [
    "# get the texts from the training data\n",
    "examples = df_train['TEXT']\n",
    "training_texts = [review for review in examples]\n",
    "\n",
    "# verify the count of training texts\n",
    "print(f\"Length of training texts: {len(training_texts)}\")"
   ]
  },
  {
   "cell_type": "code",
   "execution_count": 160,
   "id": "5a3b9d9e",
   "metadata": {},
   "outputs": [],
   "source": [
    "training_labels = df_train['LABEL']"
   ]
  },
  {
   "cell_type": "code",
   "execution_count": 161,
   "id": "ca25f264",
   "metadata": {},
   "outputs": [
    {
     "name": "stdout",
     "output_type": "stream",
     "text": [
      "Dark Remains is a home run plain and simple. The film is full of creepy visuals, and scares' that will make the most seasoned horror veteran jump straight out of there seat. The staircase scene in particular, these guys are good. Although they weren't working on a huge budget everything looks good, and the actors come through. Dark Remains does have one of those interpretive endings which may be a negative for some, but I guess it makes you think. Cheri Christian and Greg Thompson are spot on as the grieving couple trying to rebuild there lives', however some side characters like the Sheriff didn't convince me. They aren't all that important anyways. I give Dark Remains a perfect ten rating for being ten times scarier than any recent studio ghost story/ Japanese remake.\n"
     ]
    }
   ],
   "source": [
    "print(training_texts[3])\n",
    "# print(examples[3])"
   ]
  },
  {
   "cell_type": "markdown",
   "id": "cf6d77d1",
   "metadata": {},
   "source": [
    "## 4. Supervised Machine Learning\n",
    "Multi-Classification using Word Embeddings (Word2Vec) and TF-IDF for Sentiment Analysis. Can try a neural network just for fun!"
   ]
  },
  {
   "cell_type": "markdown",
   "id": "5b5f20df",
   "metadata": {},
   "source": [
    "#### Development Set\n",
    "> Note: This leaderboard is calculated with approximately 80% of the test data. The final results will be based on the other 20%, so the final standings may be different. Create a development set! "
   ]
  },
  {
   "cell_type": "code",
   "execution_count": 135,
   "id": "30174bf8",
   "metadata": {},
   "outputs": [],
   "source": [
    "X_train, X_dev, y_train, y_dev = train_test_split(training_texts, training_labels, test_size=0.2, random_state=42)"
   ]
  },
  {
   "cell_type": "markdown",
   "id": "4a821fd7",
   "metadata": {},
   "source": [
    "### Logistic Regression with TF-IDF, Bag-of-Words, and etc\n",
    "- Logistic Regression with TF-IDF, Bag-of-Words, and Word2Vec"
   ]
  },
  {
   "cell_type": "code",
   "execution_count": 136,
   "id": "f5b97633",
   "metadata": {},
   "outputs": [],
   "source": [
    "# Logistic Regression model\n",
    "class Classifier():\n",
    "    def __init__(self):\n",
    "        '''\n",
    "        Initializes a Logistic Regression classifier.\n",
    "        \n",
    "        '''\n",
    "        self.clf = LogisticRegression(penalty='l2', tol=0.0001, C=1000.0, solver= 'liblinear', max_iter=1000)\n",
    "        \n",
    "    def train(self, features, labels):\n",
    "        '''\n",
    "        Trains the classifier using the given training data (features, y_labels).\n",
    "        \n",
    "        @param features: fill later\n",
    "        @param labels: fill later\n",
    "        '''\n",
    "        self.clf.fit(features, labels)\n",
    "        \n",
    "    def predict(self, features):\n",
    "        '''\n",
    "        Makes predictions for each of the given examples. \n",
    "        \n",
    "        @param features: fill later\n",
    "        '''\n",
    "        y_hats = self.clf.predict(features)\n",
    "        return y_hats"
   ]
  },
  {
   "cell_type": "markdown",
   "id": "6071e82c",
   "metadata": {},
   "source": [
    "### Model Initialization "
   ]
  },
  {
   "cell_type": "code",
   "execution_count": 137,
   "id": "6268fe8b",
   "metadata": {},
   "outputs": [
    {
     "name": "stderr",
     "output_type": "stream",
     "text": [
      "/var/folders/xx/l7vsjhy55856z9s9d1l4__580000gn/T/ipykernel_13180/1999628232.py:27: MarkupResemblesLocatorWarning: The input looks more like a filename than markup. You may want to open this file and pass the filehandle into Beautiful Soup.\n",
      "  clean_review = BeautifulSoup(clean_review).get_text()\n",
      "/var/folders/xx/l7vsjhy55856z9s9d1l4__580000gn/T/ipykernel_13180/1999628232.py:27: MarkupResemblesLocatorWarning: The input looks more like a URL than markup. You may want to use an HTTP client like requests to get the document behind the URL, and feed that document to Beautiful Soup.\n",
      "  clean_review = BeautifulSoup(clean_review).get_text()\n"
     ]
    }
   ],
   "source": [
    "to_features = TextToFeatures()\n",
    "to_features.fit(X_train)"
   ]
  },
  {
   "cell_type": "code",
   "execution_count": 138,
   "id": "b13f16ca",
   "metadata": {},
   "outputs": [],
   "source": [
    "clf = Classifier()"
   ]
  },
  {
   "cell_type": "code",
   "execution_count": 139,
   "id": "b617631a",
   "metadata": {},
   "outputs": [
    {
     "name": "stderr",
     "output_type": "stream",
     "text": [
      "/var/folders/xx/l7vsjhy55856z9s9d1l4__580000gn/T/ipykernel_13180/1999628232.py:27: MarkupResemblesLocatorWarning: The input looks more like a filename than markup. You may want to open this file and pass the filehandle into Beautiful Soup.\n",
      "  clean_review = BeautifulSoup(clean_review).get_text()\n",
      "/var/folders/xx/l7vsjhy55856z9s9d1l4__580000gn/T/ipykernel_13180/1999628232.py:27: MarkupResemblesLocatorWarning: The input looks more like a URL than markup. You may want to use an HTTP client like requests to get the document behind the URL, and feed that document to Beautiful Soup.\n",
      "  clean_review = BeautifulSoup(clean_review).get_text()\n"
     ]
    }
   ],
   "source": [
    "clf.train((to_features.transform(X_train)), y_train)"
   ]
  },
  {
   "cell_type": "code",
   "execution_count": 140,
   "id": "d8f2faa1",
   "metadata": {},
   "outputs": [
    {
     "name": "stderr",
     "output_type": "stream",
     "text": [
      "/var/folders/xx/l7vsjhy55856z9s9d1l4__580000gn/T/ipykernel_13180/1999628232.py:27: MarkupResemblesLocatorWarning: The input looks more like a filename than markup. You may want to open this file and pass the filehandle into Beautiful Soup.\n",
      "  clean_review = BeautifulSoup(clean_review).get_text()\n"
     ]
    }
   ],
   "source": [
    "y_pred = clf.predict(to_features.transform(X_dev))"
   ]
  },
  {
   "cell_type": "markdown",
   "id": "09d49012",
   "metadata": {},
   "source": [
    "### Multi-class Model Evaluation with Confusion Matrix and Classification Report\n",
    "- Use the classification to evaluate how well the model is\n",
    "- Identifying the \"Not a Movie Review\" class is non-trivial\n",
    "- Improve the discrimination between the Positive and Negative reviews"
   ]
  },
  {
   "cell_type": "code",
   "execution_count": 141,
   "id": "dbad7183",
   "metadata": {},
   "outputs": [
    {
     "name": "stdout",
     "output_type": "stream",
     "text": [
      "F1 Score: 0.9177730903023691\n"
     ]
    }
   ],
   "source": [
    "f1score = f1_score(np.array(y_dev), y_pred, average='macro')\n",
    "print(f\"F1 Score: {f1score}\")"
   ]
  },
  {
   "cell_type": "code",
   "execution_count": 142,
   "id": "a3bd099e",
   "metadata": {},
   "outputs": [],
   "source": [
    "report = classification_report(np.array(y_dev), predicted, labels=[0,1,2])"
   ]
  },
  {
   "cell_type": "code",
   "execution_count": 143,
   "id": "7249ac12",
   "metadata": {},
   "outputs": [],
   "source": [
    "target_names = [\"Not a Movie Review\", \"Positive Review\", \"Negative Review\"]"
   ]
  },
  {
   "cell_type": "code",
   "execution_count": 144,
   "id": "7d72b344",
   "metadata": {},
   "outputs": [
    {
     "name": "stdout",
     "output_type": "stream",
     "text": [
      "              precision    recall  f1-score   support\n",
      "\n",
      "           0       0.95      0.98      0.97      6454\n",
      "           1       0.89      0.87      0.88      3856\n",
      "           2       0.91      0.87      0.89      3754\n",
      "\n",
      "    accuracy                           0.92     14064\n",
      "   macro avg       0.91      0.91      0.91     14064\n",
      "weighted avg       0.92      0.92      0.92     14064\n",
      "\n"
     ]
    }
   ],
   "source": [
    "print(\"Classification Report: \\n\", report)"
   ]
  },
  {
   "cell_type": "code",
   "execution_count": 145,
   "id": "3867f9c7",
   "metadata": {},
   "outputs": [
    {
     "name": "stdout",
     "output_type": "stream",
     "text": [
      "Confusion Matrix: \n",
      " [[6347   68   39]\n",
      " [ 202 3355  299]\n",
      " [ 120  366 3268]]\n"
     ]
    }
   ],
   "source": [
    "# confusion matrix!\n",
    "matrix = confusion_matrix(np.array(y_dev), predicted, labels = [0, 1, 2])\n",
    "print(\"Confusion Matrix: \\n\", matrix)"
   ]
  },
  {
   "cell_type": "code",
   "execution_count": 146,
   "id": "0ebc0135",
   "metadata": {},
   "outputs": [
    {
     "name": "stderr",
     "output_type": "stream",
     "text": [
      "/var/folders/xx/l7vsjhy55856z9s9d1l4__580000gn/T/ipykernel_13180/1999628232.py:27: MarkupResemblesLocatorWarning: The input looks more like a filename than markup. You may want to open this file and pass the filehandle into Beautiful Soup.\n",
      "  clean_review = BeautifulSoup(clean_review).get_text()\n",
      "/var/folders/xx/l7vsjhy55856z9s9d1l4__580000gn/T/ipykernel_13180/1999628232.py:27: MarkupResemblesLocatorWarning: The input looks more like a URL than markup. You may want to use an HTTP client like requests to get the document behind the URL, and feed that document to Beautiful Soup.\n",
      "  clean_review = BeautifulSoup(clean_review).get_text()\n"
     ]
    }
   ],
   "source": [
    "to_features.fit(training_texts)\n",
    "clf.train((to_features.transform(training_texts)), training_labels)"
   ]
  },
  {
   "cell_type": "markdown",
   "id": "5d846f57",
   "metadata": {},
   "source": [
    "### Creating Word Embeddings using Word2Vec\n",
    "blah blah"
   ]
  },
  {
   "cell_type": "code",
   "execution_count": null,
   "id": "6c0daf22",
   "metadata": {},
   "outputs": [],
   "source": [
    "from gensim.models import Word2Vec"
   ]
  },
  {
   "cell_type": "code",
   "execution_count": null,
   "id": "541cd505",
   "metadata": {},
   "outputs": [],
   "source": []
  },
  {
   "cell_type": "code",
   "execution_count": 128,
   "id": "eaf899dc",
   "metadata": {},
   "outputs": [],
   "source": [
    "# from gensim.models import Word2Vec\n",
    "\n",
    "# embeddings_dim = 150 # number of features\n",
    "# window_size = 10\n",
    "# downsampling = 1e-3 # 0.0001\n",
    "\n",
    "# print(\"Training the Word2Vec model...\")\n",
    "# model = Word2Vec(global_sentences, vector_size=embeddings_dim,\\\n",
    "#                  window=window_size, sample=downsampling)"
   ]
  },
  {
   "cell_type": "code",
   "execution_count": 129,
   "id": "f29f03e2",
   "metadata": {},
   "outputs": [],
   "source": [
    "# model.wv.most_similar(\"movie\")"
   ]
  },
  {
   "cell_type": "code",
   "execution_count": 156,
   "id": "967e2a1c",
   "metadata": {},
   "outputs": [],
   "source": [
    "# # Function to average all word vectors in a paragraph\n",
    "# def featureVecMethod(words, model, embeddings_dim):\n",
    "#     # Pre-initialising empty numpy array for speed\n",
    "#     featureVec = np.zeros(embeddings_dim,dtype=\"float32\")\n",
    "#     nwords = 0\n",
    "    \n",
    "#     #Converting Index2Word which is a list to a set for better speed in the execution.\n",
    "#     index2word_set = set(model.wv.index_to_key)\n",
    "    \n",
    "#     for word in  words:\n",
    "#         if word in index2word_set:\n",
    "#             nwords = nwords + 1\n",
    "#             featureVec = np.add(featureVec, model[word])\n",
    "    \n",
    "#     # Dividing the result by number of words to get average\n",
    "#     featureVec = np.divide(featureVec, nwords)\n",
    "#     return featureVec"
   ]
  },
  {
   "cell_type": "code",
   "execution_count": 157,
   "id": "937893c4",
   "metadata": {},
   "outputs": [],
   "source": [
    "# # Function for calculating the average feature vector\n",
    "# def getAvgFeatureVecs(reviews, model, embeddings_dim):\n",
    "#     counter = 0\n",
    "#     reviewFeatureVecs = np.zeros((len(reviews),embeddings_dim),dtype=\"float32\")\n",
    "#     for review in reviews:\n",
    "#         # Printing a status message every 1000th review\n",
    "#         if counter%1000 == 0:\n",
    "#             print(\"Review %d of %d\"%(counter,len(reviews)))\n",
    "            \n",
    "#         reviewFeatureVecs[counter] = featureVecMethod(review, model, embeddings_dim)\n",
    "#         counter = counter+1\n",
    "        \n",
    "#     return reviewFeatureVecs"
   ]
  },
  {
   "cell_type": "code",
   "execution_count": 158,
   "id": "26d2a494",
   "metadata": {},
   "outputs": [
    {
     "data": {
      "text/plain": [
       "\"If you love good films don't ever buy this peice of crap!\""
      ]
     },
     "execution_count": 158,
     "metadata": {},
     "output_type": "execute_result"
    }
   ],
   "source": [
    "# training_texts[0]"
   ]
  },
  {
   "cell_type": "code",
   "execution_count": 127,
   "id": "be316d08",
   "metadata": {},
   "outputs": [],
   "source": [
    "# # Calculating average feature vector for training set\n",
    "# clean_train_reviews = []\n",
    "# for review in training_texts:\n",
    "#     clean_train_reviews.append(vocabulary(review, remove_stopwords=False))\n",
    "\n",
    "    \n",
    "# trainDataVecs = getAvgFeatureVecs(clean_train_reviews, model, embeddings_dim)"
   ]
  },
  {
   "cell_type": "markdown",
   "id": "62f9550b",
   "metadata": {},
   "source": [
    "## 5. Kaggle Upload\n",
    "Data types: (uint64, int64)"
   ]
  },
  {
   "cell_type": "code",
   "execution_count": 149,
   "id": "ecd42cee",
   "metadata": {},
   "outputs": [
    {
     "name": "stdout",
     "output_type": "stream",
     "text": [
      "Length of test texts: 17580\n"
     ]
    }
   ],
   "source": [
    "# get the texts from the training data\n",
    "test_examples = df_test['TEXT']\n",
    "test_texts = [review for review in test_examples]\n",
    "\n",
    "# verify the count of training texts\n",
    "print(f\"Length of test texts: {len(test_texts)}\")"
   ]
  },
  {
   "cell_type": "code",
   "execution_count": 150,
   "id": "571401a7",
   "metadata": {},
   "outputs": [
    {
     "name": "stderr",
     "output_type": "stream",
     "text": [
      "/var/folders/xx/l7vsjhy55856z9s9d1l4__580000gn/T/ipykernel_13180/1999628232.py:27: MarkupResemblesLocatorWarning: The input looks more like a filename than markup. You may want to open this file and pass the filehandle into Beautiful Soup.\n",
      "  clean_review = BeautifulSoup(clean_review).get_text()\n"
     ]
    }
   ],
   "source": [
    "predicted = clf.predict(to_features.transform(test_texts))\n",
    "id_test = np.array(df_test['ID'])"
   ]
  },
  {
   "cell_type": "code",
   "execution_count": 151,
   "id": "2aec4759",
   "metadata": {},
   "outputs": [],
   "source": [
    "df1 = pd.DataFrame(id_test, columns=['ID'])\n",
    "df2 = pd.DataFrame(predicted, columns=['LABEL'])"
   ]
  },
  {
   "cell_type": "code",
   "execution_count": 154,
   "id": "1d1acd32",
   "metadata": {},
   "outputs": [],
   "source": [
    "combined_df = pd.concat([df1['ID'], df2['LABEL']], axis=1)\n",
    "combinded_df.dtypes"
   ]
  },
  {
   "cell_type": "code",
   "execution_count": 156,
   "id": "5252082b",
   "metadata": {},
   "outputs": [],
   "source": [
    "combined_df.to_csv('test.csv',index=False)"
   ]
  },
  {
   "cell_type": "code",
   "execution_count": 173,
   "id": "3743f91c",
   "metadata": {},
   "outputs": [
    {
     "data": {
      "text/html": [
       "<div>\n",
       "<style scoped>\n",
       "    .dataframe tbody tr th:only-of-type {\n",
       "        vertical-align: middle;\n",
       "    }\n",
       "\n",
       "    .dataframe tbody tr th {\n",
       "        vertical-align: top;\n",
       "    }\n",
       "\n",
       "    .dataframe thead th {\n",
       "        text-align: right;\n",
       "    }\n",
       "</style>\n",
       "<table border=\"1\" class=\"dataframe\">\n",
       "  <thead>\n",
       "    <tr style=\"text-align: right;\">\n",
       "      <th></th>\n",
       "      <th>ID</th>\n",
       "      <th>LABEL</th>\n",
       "    </tr>\n",
       "  </thead>\n",
       "  <tbody>\n",
       "    <tr>\n",
       "      <th>0</th>\n",
       "      <td>4728459160322025755</td>\n",
       "      <td>1</td>\n",
       "    </tr>\n",
       "    <tr>\n",
       "      <th>1</th>\n",
       "      <td>1840432070229003467</td>\n",
       "      <td>1</td>\n",
       "    </tr>\n",
       "    <tr>\n",
       "      <th>2</th>\n",
       "      <td>12623336783082722606</td>\n",
       "      <td>2</td>\n",
       "    </tr>\n",
       "    <tr>\n",
       "      <th>3</th>\n",
       "      <td>7446733850828603409</td>\n",
       "      <td>0</td>\n",
       "    </tr>\n",
       "    <tr>\n",
       "      <th>4</th>\n",
       "      <td>16180660281866613068</td>\n",
       "      <td>2</td>\n",
       "    </tr>\n",
       "  </tbody>\n",
       "</table>\n",
       "</div>"
      ],
      "text/plain": [
       "                     ID  LABEL\n",
       "0   4728459160322025755      1\n",
       "1   1840432070229003467      1\n",
       "2  12623336783082722606      2\n",
       "3   7446733850828603409      0\n",
       "4  16180660281866613068      2"
      ]
     },
     "execution_count": 173,
     "metadata": {},
     "output_type": "execute_result"
    }
   ],
   "source": [
    "filename = 'test.csv'\n",
    "\n",
    "# Read the CSV file into a pandas DataFrame\n",
    "df = pd.read_csv(filename)\n",
    "\n",
    "# Display the first few rows of the DataFrame to verify the data\n",
    "df.head()\n",
    "# print(f\"Data types: \\n {df.dtypes}\")"
   ]
  },
  {
   "cell_type": "code",
   "execution_count": null,
   "id": "c2964d56",
   "metadata": {},
   "outputs": [],
   "source": []
  }
 ],
 "metadata": {
  "kernelspec": {
   "display_name": "Python 3 (ipykernel)",
   "language": "python",
   "name": "python3"
  },
  "language_info": {
   "codemirror_mode": {
    "name": "ipython",
    "version": 3
   },
   "file_extension": ".py",
   "mimetype": "text/x-python",
   "name": "python",
   "nbconvert_exporter": "python",
   "pygments_lexer": "ipython3",
   "version": "3.11.5"
  }
 },
 "nbformat": 4,
 "nbformat_minor": 5
}
