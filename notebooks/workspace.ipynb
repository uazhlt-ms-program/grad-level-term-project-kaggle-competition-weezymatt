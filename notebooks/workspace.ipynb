{
 "cells": [
  {
   "cell_type": "code",
   "execution_count": 3,
   "id": "9dfcafb9",
   "metadata": {},
   "outputs": [],
   "source": [
    "NAME = \"Matthew A. Hernandez\"\n",
    "# University of Arizona email address\n",
    "EMAIL = \"mah8@arizona.edu\"\n",
    "# Names of any collaborators.  Write N/A if none.\n",
    "COLLABORATORS = \"N/A\""
   ]
  },
  {
   "cell_type": "markdown",
   "id": "664e976e",
   "metadata": {},
   "source": [
    "## Class Competition\n",
    "Description, Evaluation, and Data Set taken from the class competition site."
   ]
  },
  {
   "cell_type": "markdown",
   "id": "cc5d19cc",
   "metadata": {},
   "source": [
    "## Description\n",
    "Marvin works at the last Blockbusta Videoz (a fictional video rental shop) where his task is to classify movie and TV show reviews to help curate a special section of the store.\n",
    "\n",
    "One day while perusing his favorite website, Marvin came upon a post about someone who secretly automated their job and then quietly took off on a long (paid) vacation. Inspired, Marvin set aside a portion of his salary to hire a developer to write a few scripts to scrape movie reviews from various sources. It's a bit noisy, but aggregating many reviews has cut the time he previously spent on his job by half.\n",
    "\n",
    "Now, after reading an article about AI, Marvin wants to take things a step further: he is searching for a program that can determine a) whether or not a piece of text is a movie/TV show review and b) whether or not each review is positive (the movie/TV show is recommended) or negative (the movie/TV show should be avoided).\n",
    "\n",
    "Marvin has put together a competition and advertised it on Fraggle (a fictional platform for competitive data science)."
   ]
  },
  {
   "cell_type": "markdown",
   "id": "dace9465",
   "metadata": {},
   "source": [
    "## Evaluation\n",
    "blah blah"
   ]
  },
  {
   "cell_type": "markdown",
   "id": "18e92741",
   "metadata": {},
   "source": [
    "## Data Set\n",
    "| **COLUMN** | **DESCRIPTION**                       | \n",
    "|-----------|---------------------------------------|\n",
    "|  ID        | Not a movie or TV show review         | \n",
    "|  1        | A positive movie or TV show review    |\n",
    "|  2        | A negative movie or TV show review    |\n",
    "\n",
    "\n",
    "\n",
    "| **LABEL** | **DESCRIPTION**                       | \n",
    "|-----------|---------------------------------------|\n",
    "|  0        | Not a movie or TV show review         | \n",
    "|  1        | A positive movie or TV show review    |\n",
    "|  2        | A negative movie or TV show review    |"
   ]
  },
  {
   "cell_type": "markdown",
   "id": "f62c754e",
   "metadata": {},
   "source": [
    "## Setup and Imports"
   ]
  },
  {
   "cell_type": "code",
   "execution_count": 180,
   "id": "fd8797ef",
   "metadata": {},
   "outputs": [],
   "source": [
    "import pandas as pd\n",
    "import numpy as np\n",
    "import matplotlib.pyplot as plt\n",
    "import pickle\n",
    "\n",
    "train_file_path = \"../data/train.csv\"\n",
    "test_file_path = \"../data/test.csv\"\n",
    "\n",
    "# Set the global default size of matplotlib figures\n",
    "plt.rc('figure', figsize=(10, 5))\n",
    "\n",
    "# Size of matplotlib figures that contain subplots\n",
    "fizsize_with_subplots = (10, 10)\n",
    "\n",
    "# Size of matplotlib histogram bins\n",
    "bin_size = 10"
   ]
  },
  {
   "cell_type": "markdown",
   "id": "fb1a1690",
   "metadata": {},
   "source": [
    "## Explore the data"
   ]
  },
  {
   "cell_type": "code",
   "execution_count": 188,
   "id": "dcacc354",
   "metadata": {},
   "outputs": [],
   "source": [
    "def read_reviews(reviews_path):\n",
    "    '''\n",
    "    Reads a CSV file and returns a dataframe.\n",
    "    \n",
    "    @param reviews_path:\n",
    "    @return: pd.DataFrame\n",
    "    '''\n",
    "    df = pd.read_csv(reviews_path)\n",
    "    return df"
   ]
  },
  {
   "cell_type": "code",
   "execution_count": 189,
   "id": "a0de6c45",
   "metadata": {},
   "outputs": [
    {
     "data": {
      "text/html": [
       "<div>\n",
       "<style scoped>\n",
       "    .dataframe tbody tr th:only-of-type {\n",
       "        vertical-align: middle;\n",
       "    }\n",
       "\n",
       "    .dataframe tbody tr th {\n",
       "        vertical-align: top;\n",
       "    }\n",
       "\n",
       "    .dataframe thead th {\n",
       "        text-align: right;\n",
       "    }\n",
       "</style>\n",
       "<table border=\"1\" class=\"dataframe\">\n",
       "  <thead>\n",
       "    <tr style=\"text-align: right;\">\n",
       "      <th></th>\n",
       "      <th>ID</th>\n",
       "      <th>TEXT</th>\n",
       "      <th>LABEL</th>\n",
       "    </tr>\n",
       "  </thead>\n",
       "  <tbody>\n",
       "    <tr>\n",
       "      <th>0</th>\n",
       "      <td>7850790573542594519</td>\n",
       "      <td>If you love good films don't ever buy this pei...</td>\n",
       "      <td>2</td>\n",
       "    </tr>\n",
       "    <tr>\n",
       "      <th>1</th>\n",
       "      <td>9392069522632994700</td>\n",
       "      <td>The 33 percent of the nations nitwits that sti...</td>\n",
       "      <td>2</td>\n",
       "    </tr>\n",
       "    <tr>\n",
       "      <th>2</th>\n",
       "      <td>5083704536542443514</td>\n",
       "      <td>I saw Anatomy years ago -- dubbed at a friends...</td>\n",
       "      <td>1</td>\n",
       "    </tr>\n",
       "    <tr>\n",
       "      <th>3</th>\n",
       "      <td>12418349755186772171</td>\n",
       "      <td>Dark Remains is a home run plain and simple. T...</td>\n",
       "      <td>1</td>\n",
       "    </tr>\n",
       "    <tr>\n",
       "      <th>4</th>\n",
       "      <td>12144957944004619479</td>\n",
       "      <td>Feh. This movie started out in an interesting ...</td>\n",
       "      <td>2</td>\n",
       "    </tr>\n",
       "  </tbody>\n",
       "</table>\n",
       "</div>"
      ],
      "text/plain": [
       "                     ID                                               TEXT  \\\n",
       "0   7850790573542594519  If you love good films don't ever buy this pei...   \n",
       "1   9392069522632994700  The 33 percent of the nations nitwits that sti...   \n",
       "2   5083704536542443514  I saw Anatomy years ago -- dubbed at a friends...   \n",
       "3  12418349755186772171  Dark Remains is a home run plain and simple. T...   \n",
       "4  12144957944004619479  Feh. This movie started out in an interesting ...   \n",
       "\n",
       "   LABEL  \n",
       "0      2  \n",
       "1      2  \n",
       "2      1  \n",
       "3      1  \n",
       "4      2  "
      ]
     },
     "execution_count": 189,
     "metadata": {},
     "output_type": "execute_result"
    }
   ],
   "source": [
    "df_train = read_reviews(train_file_path)\n",
    "df_test = read_reviews(test_file_path)\n",
    "df_train.head()"
   ]
  },
  {
   "cell_type": "code",
   "execution_count": 154,
   "id": "92badd0f",
   "metadata": {},
   "outputs": [
    {
     "name": "stdout",
     "output_type": "stream",
     "text": [
      "Dataframe shape: 70317\n",
      "Dataframe types: \n",
      "ID             uint64\n",
      "TEXT           object\n",
      "LABEL           int64\n",
      "TEXT_LENGTH     int64\n",
      "dtype: object\n"
     ]
    }
   ],
   "source": [
    "print(f\"Dataframe shape: {df_train.shape[0]}\")\n",
    "print(f\"Dataframe types: \\n{df_train.dtypes}\")"
   ]
  },
  {
   "cell_type": "code",
   "execution_count": 52,
   "id": "1c17aa2a",
   "metadata": {},
   "outputs": [
    {
     "name": "stdout",
     "output_type": "stream",
     "text": [
      "<class 'pandas.core.frame.DataFrame'>\n",
      "RangeIndex: 70317 entries, 0 to 70316\n",
      "Data columns (total 3 columns):\n",
      " #   Column  Non-Null Count  Dtype \n",
      "---  ------  --------------  ----- \n",
      " 0   ID      70317 non-null  uint64\n",
      " 1   TEXT    70311 non-null  object\n",
      " 2   LABEL   70317 non-null  int64 \n",
      "dtypes: int64(1), object(1), uint64(1)\n",
      "memory usage: 1.6+ MB\n"
     ]
    }
   ],
   "source": [
    "df_train.info()"
   ]
  },
  {
   "cell_type": "markdown",
   "id": "cf70cb17",
   "metadata": {},
   "source": [
    "Text column is missing 6 values. The shape of the dataframe is 70317. The data set is relatively clean, so no additional preprocessing is needed much."
   ]
  },
  {
   "cell_type": "code",
   "execution_count": 171,
   "id": "e39599c0",
   "metadata": {},
   "outputs": [],
   "source": [
    "df_train['TEXT'].fillna(value='Unknown', inplace=True)"
   ]
  },
  {
   "cell_type": "markdown",
   "id": "d5461083",
   "metadata": {},
   "source": [
    "**Drop missing values.** Other option would be to replace the Text columns with an 'Unknown' value."
   ]
  },
  {
   "cell_type": "code",
   "execution_count": 172,
   "id": "2de43abf",
   "metadata": {},
   "outputs": [
    {
     "name": "stdout",
     "output_type": "stream",
     "text": [
      "<class 'pandas.core.frame.DataFrame'>\n",
      "RangeIndex: 70317 entries, 0 to 70316\n",
      "Data columns (total 4 columns):\n",
      " #   Column       Non-Null Count  Dtype \n",
      "---  ------       --------------  ----- \n",
      " 0   ID           70317 non-null  uint64\n",
      " 1   TEXT         70317 non-null  object\n",
      " 2   LABEL        70317 non-null  int64 \n",
      " 3   TEXT_LENGTH  70317 non-null  int64 \n",
      "dtypes: int64(2), object(1), uint64(1)\n",
      "memory usage: 2.1+ MB\n"
     ]
    }
   ],
   "source": [
    "# verify the changes were made\n",
    "df_train.info()"
   ]
  },
  {
   "cell_type": "code",
   "execution_count": 149,
   "id": "fe0feed0",
   "metadata": {},
   "outputs": [
    {
     "data": {
      "text/html": [
       "<div>\n",
       "<style scoped>\n",
       "    .dataframe tbody tr th:only-of-type {\n",
       "        vertical-align: middle;\n",
       "    }\n",
       "\n",
       "    .dataframe tbody tr th {\n",
       "        vertical-align: top;\n",
       "    }\n",
       "\n",
       "    .dataframe thead th {\n",
       "        text-align: right;\n",
       "    }\n",
       "</style>\n",
       "<table border=\"1\" class=\"dataframe\">\n",
       "  <thead>\n",
       "    <tr style=\"text-align: right;\">\n",
       "      <th></th>\n",
       "      <th>ID</th>\n",
       "      <th>LABEL</th>\n",
       "      <th>TEXT_LENGTH</th>\n",
       "    </tr>\n",
       "  </thead>\n",
       "  <tbody>\n",
       "    <tr>\n",
       "      <th>count</th>\n",
       "      <td>7.031700e+04</td>\n",
       "      <td>70317.000000</td>\n",
       "      <td>70317.000000</td>\n",
       "    </tr>\n",
       "    <tr>\n",
       "      <th>mean</th>\n",
       "      <td>9.237206e+18</td>\n",
       "      <td>0.813687</td>\n",
       "      <td>857.403046</td>\n",
       "    </tr>\n",
       "    <tr>\n",
       "      <th>std</th>\n",
       "      <td>5.341639e+18</td>\n",
       "      <td>0.831365</td>\n",
       "      <td>998.873002</td>\n",
       "    </tr>\n",
       "    <tr>\n",
       "      <th>min</th>\n",
       "      <td>5.764730e+14</td>\n",
       "      <td>0.000000</td>\n",
       "      <td>1.000000</td>\n",
       "    </tr>\n",
       "    <tr>\n",
       "      <th>25%</th>\n",
       "      <td>4.592511e+18</td>\n",
       "      <td>0.000000</td>\n",
       "      <td>195.000000</td>\n",
       "    </tr>\n",
       "    <tr>\n",
       "      <th>50%</th>\n",
       "      <td>9.273194e+18</td>\n",
       "      <td>1.000000</td>\n",
       "      <td>607.000000</td>\n",
       "    </tr>\n",
       "    <tr>\n",
       "      <th>75%</th>\n",
       "      <td>1.387591e+19</td>\n",
       "      <td>2.000000</td>\n",
       "      <td>1096.000000</td>\n",
       "    </tr>\n",
       "    <tr>\n",
       "      <th>max</th>\n",
       "      <td>1.844662e+19</td>\n",
       "      <td>2.000000</td>\n",
       "      <td>31731.000000</td>\n",
       "    </tr>\n",
       "  </tbody>\n",
       "</table>\n",
       "</div>"
      ],
      "text/plain": [
       "                 ID         LABEL   TEXT_LENGTH\n",
       "count  7.031700e+04  70317.000000  70317.000000\n",
       "mean   9.237206e+18      0.813687    857.403046\n",
       "std    5.341639e+18      0.831365    998.873002\n",
       "min    5.764730e+14      0.000000      1.000000\n",
       "25%    4.592511e+18      0.000000    195.000000\n",
       "50%    9.273194e+18      1.000000    607.000000\n",
       "75%    1.387591e+19      2.000000   1096.000000\n",
       "max    1.844662e+19      2.000000  31731.000000"
      ]
     },
     "execution_count": 149,
     "metadata": {},
     "output_type": "execute_result"
    }
   ],
   "source": [
    "df_train.describe()"
   ]
  },
  {
   "cell_type": "code",
   "execution_count": 182,
   "id": "70a8ca0e",
   "metadata": {},
   "outputs": [
    {
     "data": {
      "image/png": "[encoded data removed]",
      "text/plain": [
       "<Figure size 1000x1000 with 1 Axes>"
      ]
     },
     "metadata": {},
     "output_type": "display_data"
    }
   ],
   "source": [
    "# Plotting\n",
    "fig = plt.figure(figsize=fizsize_with_subplots)\n",
    "fig_dims = (3, 2)\n",
    "\n",
    "# Plot death and survival counts\n",
    "plt.subplot2grid(fig_dims, (0, 0))\n",
    "\n",
    "df_train['LABEL'].value_counts().plot(kind='bar', \n",
    "                                         title='Label Counts')\n",
    "plt.grid(True, linestyle='dotted')\n",
    "plt.show()"
   ]
  },
  {
   "cell_type": "markdown",
   "id": "c1aedc08",
   "metadata": {},
   "source": []
  },
  {
   "cell_type": "code",
   "execution_count": null,
   "id": "060c396f",
   "metadata": {},
   "outputs": [],
   "source": []
  }
 ],
 "metadata": {
  "kernelspec": {
   "display_name": "Python 3 (ipykernel)",
   "language": "python",
   "name": "python3"
  },
  "language_info": {
   "codemirror_mode": {
    "name": "ipython",
    "version": 3
   },
   "file_extension": ".py",
   "mimetype": "text/x-python",
   "name": "python",
   "nbconvert_exporter": "python",
   "pygments_lexer": "ipython3",
   "version": "3.11.5"
  }
 },
 "nbformat": 4,
 "nbformat_minor": 5
}
